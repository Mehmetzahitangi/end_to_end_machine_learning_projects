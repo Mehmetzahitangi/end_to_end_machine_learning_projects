{
  "nbformat": 4,
  "nbformat_minor": 0,
  "metadata": {
    "colab": {
      "name": "credit_risk_scoring.ipynb",
      "provenance": [],
      "collapsed_sections": []
    },
    "kernelspec": {
      "name": "python3",
      "display_name": "Python 3"
    },
    "language_info": {
      "name": "python"
    }
  },
  "cells": [
    {
      "cell_type": "code",
      "source": [
        "import pandas as pd\n",
        "import numpy as np\n",
        "\n",
        "import seaborn as sns\n",
        "from matplotlib import pyplot as plt\n",
        "%matplotlib inline"
      ],
      "metadata": {
        "id": "z5D8-7o5r5Xo"
      },
      "execution_count": 1,
      "outputs": []
    },
    {
      "cell_type": "markdown",
      "source": [
        "# Data Cleaning And Preparation"
      ],
      "metadata": {
        "id": "_ObNFGXDrqp8"
      }
    },
    {
      "cell_type": "code",
      "source": [
        "data = 'https://raw.githubusercontent.com/alexeygrigorev/mlbookcamp-code/master/chapter-06-trees/CreditScoring.csv'"
      ],
      "metadata": {
        "id": "6UY6gEkEr4j0"
      },
      "execution_count": 2,
      "outputs": []
    },
    {
      "cell_type": "code",
      "execution_count": 3,
      "metadata": {
        "colab": {
          "base_uri": "https://localhost:8080/"
        },
        "id": "YlZ012HPrVZc",
        "outputId": "7b384777-ac61-4421-d06c-ed7ce05bbb5e"
      },
      "outputs": [
        {
          "output_type": "stream",
          "name": "stdout",
          "text": [
            "--2022-07-06 08:35:34--  https://raw.githubusercontent.com/alexeygrigorev/mlbookcamp-code/master/chapter-06-trees/CreditScoring.csv\n",
            "Resolving raw.githubusercontent.com (raw.githubusercontent.com)... 185.199.110.133, 185.199.109.133, 185.199.111.133, ...\n",
            "Connecting to raw.githubusercontent.com (raw.githubusercontent.com)|185.199.110.133|:443... connected.\n",
            "HTTP request sent, awaiting response... 200 OK\n",
            "Length: 182489 (178K) [text/plain]\n",
            "Saving to: ‘CreditScoring.csv’\n",
            "\n",
            "CreditScoring.csv   100%[===================>] 178.21K  --.-KB/s    in 0.02s   \n",
            "\n",
            "2022-07-06 08:35:34 (10.6 MB/s) - ‘CreditScoring.csv’ saved [182489/182489]\n",
            "\n"
          ]
        }
      ],
      "source": [
        "!wget $data"
      ]
    },
    {
      "cell_type": "code",
      "source": [
        "!head CreditScoring.csv"
      ],
      "metadata": {
        "colab": {
          "base_uri": "https://localhost:8080/"
        },
        "id": "GF8-Kj8rsB_t",
        "outputId": "51ccf214-79a8-413a-94f2-d488e99c8e12"
      },
      "execution_count": 4,
      "outputs": [
        {
          "output_type": "stream",
          "name": "stdout",
          "text": [
            "\"Status\",\"Seniority\",\"Home\",\"Time\",\"Age\",\"Marital\",\"Records\",\"Job\",\"Expenses\",\"Income\",\"Assets\",\"Debt\",\"Amount\",\"Price\"\n",
            "1,9,1,60,30,2,1,3,73,129,0,0,800,846\n",
            "1,17,1,60,58,3,1,1,48,131,0,0,1000,1658\n",
            "2,10,2,36,46,2,2,3,90,200,3000,0,2000,2985\n",
            "1,0,1,60,24,1,1,1,63,182,2500,0,900,1325\n",
            "1,0,1,36,26,1,1,1,46,107,0,0,310,910\n",
            "1,1,2,60,36,2,1,1,75,214,3500,0,650,1645\n",
            "1,29,2,60,44,2,1,1,75,125,10000,0,1600,1800\n",
            "1,9,5,12,27,1,1,1,35,80,0,0,200,1093\n",
            "1,0,2,60,32,2,1,3,90,107,15000,0,1200,1957\n"
          ]
        }
      ]
    },
    {
      "cell_type": "code",
      "source": [
        "df = pd.read_csv(data)"
      ],
      "metadata": {
        "id": "Hf-Kf8MbsEkC"
      },
      "execution_count": 5,
      "outputs": []
    },
    {
      "cell_type": "code",
      "source": [
        "df.columns = df.columns.str.lower()\n",
        "df.head()"
      ],
      "metadata": {
        "colab": {
          "base_uri": "https://localhost:8080/",
          "height": 206
        },
        "id": "2GHD5wuQsPDd",
        "outputId": "1fdec9e1-2f52-40e5-fae8-5093b7793593"
      },
      "execution_count": 6,
      "outputs": [
        {
          "output_type": "execute_result",
          "data": {
            "text/plain": [
              "   status  seniority  home  time  age  marital  records  job  expenses  \\\n",
              "0       1          9     1    60   30        2        1    3        73   \n",
              "1       1         17     1    60   58        3        1    1        48   \n",
              "2       2         10     2    36   46        2        2    3        90   \n",
              "3       1          0     1    60   24        1        1    1        63   \n",
              "4       1          0     1    36   26        1        1    1        46   \n",
              "\n",
              "   income  assets  debt  amount  price  \n",
              "0     129       0     0     800    846  \n",
              "1     131       0     0    1000   1658  \n",
              "2     200    3000     0    2000   2985  \n",
              "3     182    2500     0     900   1325  \n",
              "4     107       0     0     310    910  "
            ],
            "text/html": [
              "\n",
              "  <div id=\"df-13b73bc2-1353-41f5-95a7-038a8e2e3efa\">\n",
              "    <div class=\"colab-df-container\">\n",
              "      <div>\n",
              "<style scoped>\n",
              "    .dataframe tbody tr th:only-of-type {\n",
              "        vertical-align: middle;\n",
              "    }\n",
              "\n",
              "    .dataframe tbody tr th {\n",
              "        vertical-align: top;\n",
              "    }\n",
              "\n",
              "    .dataframe thead th {\n",
              "        text-align: right;\n",
              "    }\n",
              "</style>\n",
              "<table border=\"1\" class=\"dataframe\">\n",
              "  <thead>\n",
              "    <tr style=\"text-align: right;\">\n",
              "      <th></th>\n",
              "      <th>status</th>\n",
              "      <th>seniority</th>\n",
              "      <th>home</th>\n",
              "      <th>time</th>\n",
              "      <th>age</th>\n",
              "      <th>marital</th>\n",
              "      <th>records</th>\n",
              "      <th>job</th>\n",
              "      <th>expenses</th>\n",
              "      <th>income</th>\n",
              "      <th>assets</th>\n",
              "      <th>debt</th>\n",
              "      <th>amount</th>\n",
              "      <th>price</th>\n",
              "    </tr>\n",
              "  </thead>\n",
              "  <tbody>\n",
              "    <tr>\n",
              "      <th>0</th>\n",
              "      <td>1</td>\n",
              "      <td>9</td>\n",
              "      <td>1</td>\n",
              "      <td>60</td>\n",
              "      <td>30</td>\n",
              "      <td>2</td>\n",
              "      <td>1</td>\n",
              "      <td>3</td>\n",
              "      <td>73</td>\n",
              "      <td>129</td>\n",
              "      <td>0</td>\n",
              "      <td>0</td>\n",
              "      <td>800</td>\n",
              "      <td>846</td>\n",
              "    </tr>\n",
              "    <tr>\n",
              "      <th>1</th>\n",
              "      <td>1</td>\n",
              "      <td>17</td>\n",
              "      <td>1</td>\n",
              "      <td>60</td>\n",
              "      <td>58</td>\n",
              "      <td>3</td>\n",
              "      <td>1</td>\n",
              "      <td>1</td>\n",
              "      <td>48</td>\n",
              "      <td>131</td>\n",
              "      <td>0</td>\n",
              "      <td>0</td>\n",
              "      <td>1000</td>\n",
              "      <td>1658</td>\n",
              "    </tr>\n",
              "    <tr>\n",
              "      <th>2</th>\n",
              "      <td>2</td>\n",
              "      <td>10</td>\n",
              "      <td>2</td>\n",
              "      <td>36</td>\n",
              "      <td>46</td>\n",
              "      <td>2</td>\n",
              "      <td>2</td>\n",
              "      <td>3</td>\n",
              "      <td>90</td>\n",
              "      <td>200</td>\n",
              "      <td>3000</td>\n",
              "      <td>0</td>\n",
              "      <td>2000</td>\n",
              "      <td>2985</td>\n",
              "    </tr>\n",
              "    <tr>\n",
              "      <th>3</th>\n",
              "      <td>1</td>\n",
              "      <td>0</td>\n",
              "      <td>1</td>\n",
              "      <td>60</td>\n",
              "      <td>24</td>\n",
              "      <td>1</td>\n",
              "      <td>1</td>\n",
              "      <td>1</td>\n",
              "      <td>63</td>\n",
              "      <td>182</td>\n",
              "      <td>2500</td>\n",
              "      <td>0</td>\n",
              "      <td>900</td>\n",
              "      <td>1325</td>\n",
              "    </tr>\n",
              "    <tr>\n",
              "      <th>4</th>\n",
              "      <td>1</td>\n",
              "      <td>0</td>\n",
              "      <td>1</td>\n",
              "      <td>36</td>\n",
              "      <td>26</td>\n",
              "      <td>1</td>\n",
              "      <td>1</td>\n",
              "      <td>1</td>\n",
              "      <td>46</td>\n",
              "      <td>107</td>\n",
              "      <td>0</td>\n",
              "      <td>0</td>\n",
              "      <td>310</td>\n",
              "      <td>910</td>\n",
              "    </tr>\n",
              "  </tbody>\n",
              "</table>\n",
              "</div>\n",
              "      <button class=\"colab-df-convert\" onclick=\"convertToInteractive('df-13b73bc2-1353-41f5-95a7-038a8e2e3efa')\"\n",
              "              title=\"Convert this dataframe to an interactive table.\"\n",
              "              style=\"display:none;\">\n",
              "        \n",
              "  <svg xmlns=\"http://www.w3.org/2000/svg\" height=\"24px\"viewBox=\"0 0 24 24\"\n",
              "       width=\"24px\">\n",
              "    <path d=\"M0 0h24v24H0V0z\" fill=\"none\"/>\n",
              "    <path d=\"M18.56 5.44l.94 2.06.94-2.06 2.06-.94-2.06-.94-.94-2.06-.94 2.06-2.06.94zm-11 1L8.5 8.5l.94-2.06 2.06-.94-2.06-.94L8.5 2.5l-.94 2.06-2.06.94zm10 10l.94 2.06.94-2.06 2.06-.94-2.06-.94-.94-2.06-.94 2.06-2.06.94z\"/><path d=\"M17.41 7.96l-1.37-1.37c-.4-.4-.92-.59-1.43-.59-.52 0-1.04.2-1.43.59L10.3 9.45l-7.72 7.72c-.78.78-.78 2.05 0 2.83L4 21.41c.39.39.9.59 1.41.59.51 0 1.02-.2 1.41-.59l7.78-7.78 2.81-2.81c.8-.78.8-2.07 0-2.86zM5.41 20L4 18.59l7.72-7.72 1.47 1.35L5.41 20z\"/>\n",
              "  </svg>\n",
              "      </button>\n",
              "      \n",
              "  <style>\n",
              "    .colab-df-container {\n",
              "      display:flex;\n",
              "      flex-wrap:wrap;\n",
              "      gap: 12px;\n",
              "    }\n",
              "\n",
              "    .colab-df-convert {\n",
              "      background-color: #E8F0FE;\n",
              "      border: none;\n",
              "      border-radius: 50%;\n",
              "      cursor: pointer;\n",
              "      display: none;\n",
              "      fill: #1967D2;\n",
              "      height: 32px;\n",
              "      padding: 0 0 0 0;\n",
              "      width: 32px;\n",
              "    }\n",
              "\n",
              "    .colab-df-convert:hover {\n",
              "      background-color: #E2EBFA;\n",
              "      box-shadow: 0px 1px 2px rgba(60, 64, 67, 0.3), 0px 1px 3px 1px rgba(60, 64, 67, 0.15);\n",
              "      fill: #174EA6;\n",
              "    }\n",
              "\n",
              "    [theme=dark] .colab-df-convert {\n",
              "      background-color: #3B4455;\n",
              "      fill: #D2E3FC;\n",
              "    }\n",
              "\n",
              "    [theme=dark] .colab-df-convert:hover {\n",
              "      background-color: #434B5C;\n",
              "      box-shadow: 0px 1px 3px 1px rgba(0, 0, 0, 0.15);\n",
              "      filter: drop-shadow(0px 1px 2px rgba(0, 0, 0, 0.3));\n",
              "      fill: #FFFFFF;\n",
              "    }\n",
              "  </style>\n",
              "\n",
              "      <script>\n",
              "        const buttonEl =\n",
              "          document.querySelector('#df-13b73bc2-1353-41f5-95a7-038a8e2e3efa button.colab-df-convert');\n",
              "        buttonEl.style.display =\n",
              "          google.colab.kernel.accessAllowed ? 'block' : 'none';\n",
              "\n",
              "        async function convertToInteractive(key) {\n",
              "          const element = document.querySelector('#df-13b73bc2-1353-41f5-95a7-038a8e2e3efa');\n",
              "          const dataTable =\n",
              "            await google.colab.kernel.invokeFunction('convertToInteractive',\n",
              "                                                     [key], {});\n",
              "          if (!dataTable) return;\n",
              "\n",
              "          const docLinkHtml = 'Like what you see? Visit the ' +\n",
              "            '<a target=\"_blank\" href=https://colab.research.google.com/notebooks/data_table.ipynb>data table notebook</a>'\n",
              "            + ' to learn more about interactive tables.';\n",
              "          element.innerHTML = '';\n",
              "          dataTable['output_type'] = 'display_data';\n",
              "          await google.colab.output.renderOutput(dataTable, element);\n",
              "          const docLink = document.createElement('div');\n",
              "          docLink.innerHTML = docLinkHtml;\n",
              "          element.appendChild(docLink);\n",
              "        }\n",
              "      </script>\n",
              "    </div>\n",
              "  </div>\n",
              "  "
            ]
          },
          "metadata": {},
          "execution_count": 6
        }
      ]
    },
    {
      "cell_type": "code",
      "source": [
        "df.status.value_counts()"
      ],
      "metadata": {
        "colab": {
          "base_uri": "https://localhost:8080/"
        },
        "id": "c6KuiM3msfXS",
        "outputId": "d7b64bf2-f165-45fe-9e2a-c075ee6387fd"
      },
      "execution_count": 7,
      "outputs": [
        {
          "output_type": "execute_result",
          "data": {
            "text/plain": [
              "1    3200\n",
              "2    1254\n",
              "0       1\n",
              "Name: status, dtype: int64"
            ]
          },
          "metadata": {},
          "execution_count": 7
        }
      ]
    },
    {
      "cell_type": "code",
      "source": [
        "status_value = {\n",
        "    1: 'ok',\n",
        "    2: 'default',\n",
        "    0: 'unk'\n",
        "}\n",
        "\n",
        "df.status = df.status.map(status_value)\n",
        "df.head()"
      ],
      "metadata": {
        "colab": {
          "base_uri": "https://localhost:8080/",
          "height": 206
        },
        "id": "6f2vbJgOsWcT",
        "outputId": "e033d4d1-7e78-4051-9ab6-bffc8dde21af"
      },
      "execution_count": 8,
      "outputs": [
        {
          "output_type": "execute_result",
          "data": {
            "text/plain": [
              "    status  seniority  home  time  age  marital  records  job  expenses  \\\n",
              "0       ok          9     1    60   30        2        1    3        73   \n",
              "1       ok         17     1    60   58        3        1    1        48   \n",
              "2  default         10     2    36   46        2        2    3        90   \n",
              "3       ok          0     1    60   24        1        1    1        63   \n",
              "4       ok          0     1    36   26        1        1    1        46   \n",
              "\n",
              "   income  assets  debt  amount  price  \n",
              "0     129       0     0     800    846  \n",
              "1     131       0     0    1000   1658  \n",
              "2     200    3000     0    2000   2985  \n",
              "3     182    2500     0     900   1325  \n",
              "4     107       0     0     310    910  "
            ],
            "text/html": [
              "\n",
              "  <div id=\"df-b1c749a7-6bc3-4e33-8379-ac6c02f7d1c0\">\n",
              "    <div class=\"colab-df-container\">\n",
              "      <div>\n",
              "<style scoped>\n",
              "    .dataframe tbody tr th:only-of-type {\n",
              "        vertical-align: middle;\n",
              "    }\n",
              "\n",
              "    .dataframe tbody tr th {\n",
              "        vertical-align: top;\n",
              "    }\n",
              "\n",
              "    .dataframe thead th {\n",
              "        text-align: right;\n",
              "    }\n",
              "</style>\n",
              "<table border=\"1\" class=\"dataframe\">\n",
              "  <thead>\n",
              "    <tr style=\"text-align: right;\">\n",
              "      <th></th>\n",
              "      <th>status</th>\n",
              "      <th>seniority</th>\n",
              "      <th>home</th>\n",
              "      <th>time</th>\n",
              "      <th>age</th>\n",
              "      <th>marital</th>\n",
              "      <th>records</th>\n",
              "      <th>job</th>\n",
              "      <th>expenses</th>\n",
              "      <th>income</th>\n",
              "      <th>assets</th>\n",
              "      <th>debt</th>\n",
              "      <th>amount</th>\n",
              "      <th>price</th>\n",
              "    </tr>\n",
              "  </thead>\n",
              "  <tbody>\n",
              "    <tr>\n",
              "      <th>0</th>\n",
              "      <td>ok</td>\n",
              "      <td>9</td>\n",
              "      <td>1</td>\n",
              "      <td>60</td>\n",
              "      <td>30</td>\n",
              "      <td>2</td>\n",
              "      <td>1</td>\n",
              "      <td>3</td>\n",
              "      <td>73</td>\n",
              "      <td>129</td>\n",
              "      <td>0</td>\n",
              "      <td>0</td>\n",
              "      <td>800</td>\n",
              "      <td>846</td>\n",
              "    </tr>\n",
              "    <tr>\n",
              "      <th>1</th>\n",
              "      <td>ok</td>\n",
              "      <td>17</td>\n",
              "      <td>1</td>\n",
              "      <td>60</td>\n",
              "      <td>58</td>\n",
              "      <td>3</td>\n",
              "      <td>1</td>\n",
              "      <td>1</td>\n",
              "      <td>48</td>\n",
              "      <td>131</td>\n",
              "      <td>0</td>\n",
              "      <td>0</td>\n",
              "      <td>1000</td>\n",
              "      <td>1658</td>\n",
              "    </tr>\n",
              "    <tr>\n",
              "      <th>2</th>\n",
              "      <td>default</td>\n",
              "      <td>10</td>\n",
              "      <td>2</td>\n",
              "      <td>36</td>\n",
              "      <td>46</td>\n",
              "      <td>2</td>\n",
              "      <td>2</td>\n",
              "      <td>3</td>\n",
              "      <td>90</td>\n",
              "      <td>200</td>\n",
              "      <td>3000</td>\n",
              "      <td>0</td>\n",
              "      <td>2000</td>\n",
              "      <td>2985</td>\n",
              "    </tr>\n",
              "    <tr>\n",
              "      <th>3</th>\n",
              "      <td>ok</td>\n",
              "      <td>0</td>\n",
              "      <td>1</td>\n",
              "      <td>60</td>\n",
              "      <td>24</td>\n",
              "      <td>1</td>\n",
              "      <td>1</td>\n",
              "      <td>1</td>\n",
              "      <td>63</td>\n",
              "      <td>182</td>\n",
              "      <td>2500</td>\n",
              "      <td>0</td>\n",
              "      <td>900</td>\n",
              "      <td>1325</td>\n",
              "    </tr>\n",
              "    <tr>\n",
              "      <th>4</th>\n",
              "      <td>ok</td>\n",
              "      <td>0</td>\n",
              "      <td>1</td>\n",
              "      <td>36</td>\n",
              "      <td>26</td>\n",
              "      <td>1</td>\n",
              "      <td>1</td>\n",
              "      <td>1</td>\n",
              "      <td>46</td>\n",
              "      <td>107</td>\n",
              "      <td>0</td>\n",
              "      <td>0</td>\n",
              "      <td>310</td>\n",
              "      <td>910</td>\n",
              "    </tr>\n",
              "  </tbody>\n",
              "</table>\n",
              "</div>\n",
              "      <button class=\"colab-df-convert\" onclick=\"convertToInteractive('df-b1c749a7-6bc3-4e33-8379-ac6c02f7d1c0')\"\n",
              "              title=\"Convert this dataframe to an interactive table.\"\n",
              "              style=\"display:none;\">\n",
              "        \n",
              "  <svg xmlns=\"http://www.w3.org/2000/svg\" height=\"24px\"viewBox=\"0 0 24 24\"\n",
              "       width=\"24px\">\n",
              "    <path d=\"M0 0h24v24H0V0z\" fill=\"none\"/>\n",
              "    <path d=\"M18.56 5.44l.94 2.06.94-2.06 2.06-.94-2.06-.94-.94-2.06-.94 2.06-2.06.94zm-11 1L8.5 8.5l.94-2.06 2.06-.94-2.06-.94L8.5 2.5l-.94 2.06-2.06.94zm10 10l.94 2.06.94-2.06 2.06-.94-2.06-.94-.94-2.06-.94 2.06-2.06.94z\"/><path d=\"M17.41 7.96l-1.37-1.37c-.4-.4-.92-.59-1.43-.59-.52 0-1.04.2-1.43.59L10.3 9.45l-7.72 7.72c-.78.78-.78 2.05 0 2.83L4 21.41c.39.39.9.59 1.41.59.51 0 1.02-.2 1.41-.59l7.78-7.78 2.81-2.81c.8-.78.8-2.07 0-2.86zM5.41 20L4 18.59l7.72-7.72 1.47 1.35L5.41 20z\"/>\n",
              "  </svg>\n",
              "      </button>\n",
              "      \n",
              "  <style>\n",
              "    .colab-df-container {\n",
              "      display:flex;\n",
              "      flex-wrap:wrap;\n",
              "      gap: 12px;\n",
              "    }\n",
              "\n",
              "    .colab-df-convert {\n",
              "      background-color: #E8F0FE;\n",
              "      border: none;\n",
              "      border-radius: 50%;\n",
              "      cursor: pointer;\n",
              "      display: none;\n",
              "      fill: #1967D2;\n",
              "      height: 32px;\n",
              "      padding: 0 0 0 0;\n",
              "      width: 32px;\n",
              "    }\n",
              "\n",
              "    .colab-df-convert:hover {\n",
              "      background-color: #E2EBFA;\n",
              "      box-shadow: 0px 1px 2px rgba(60, 64, 67, 0.3), 0px 1px 3px 1px rgba(60, 64, 67, 0.15);\n",
              "      fill: #174EA6;\n",
              "    }\n",
              "\n",
              "    [theme=dark] .colab-df-convert {\n",
              "      background-color: #3B4455;\n",
              "      fill: #D2E3FC;\n",
              "    }\n",
              "\n",
              "    [theme=dark] .colab-df-convert:hover {\n",
              "      background-color: #434B5C;\n",
              "      box-shadow: 0px 1px 3px 1px rgba(0, 0, 0, 0.15);\n",
              "      filter: drop-shadow(0px 1px 2px rgba(0, 0, 0, 0.3));\n",
              "      fill: #FFFFFF;\n",
              "    }\n",
              "  </style>\n",
              "\n",
              "      <script>\n",
              "        const buttonEl =\n",
              "          document.querySelector('#df-b1c749a7-6bc3-4e33-8379-ac6c02f7d1c0 button.colab-df-convert');\n",
              "        buttonEl.style.display =\n",
              "          google.colab.kernel.accessAllowed ? 'block' : 'none';\n",
              "\n",
              "        async function convertToInteractive(key) {\n",
              "          const element = document.querySelector('#df-b1c749a7-6bc3-4e33-8379-ac6c02f7d1c0');\n",
              "          const dataTable =\n",
              "            await google.colab.kernel.invokeFunction('convertToInteractive',\n",
              "                                                     [key], {});\n",
              "          if (!dataTable) return;\n",
              "\n",
              "          const docLinkHtml = 'Like what you see? Visit the ' +\n",
              "            '<a target=\"_blank\" href=https://colab.research.google.com/notebooks/data_table.ipynb>data table notebook</a>'\n",
              "            + ' to learn more about interactive tables.';\n",
              "          element.innerHTML = '';\n",
              "          dataTable['output_type'] = 'display_data';\n",
              "          await google.colab.output.renderOutput(dataTable, element);\n",
              "          const docLink = document.createElement('div');\n",
              "          docLink.innerHTML = docLinkHtml;\n",
              "          element.appendChild(docLink);\n",
              "        }\n",
              "      </script>\n",
              "    </div>\n",
              "  </div>\n",
              "  "
            ]
          },
          "metadata": {},
          "execution_count": 8
        }
      ]
    },
    {
      "cell_type": "code",
      "source": [
        "home_values = {\n",
        "    1: 'rent',\n",
        "    2: 'owner',\n",
        "    3: 'private',\n",
        "    4: 'ignore',\n",
        "    5: 'parents',\n",
        "    6: 'other',\n",
        "    0: 'unk'\n",
        "}\n",
        "\n",
        "df.home = df.home.map(home_values)\n",
        "\n",
        "marital_values = {\n",
        "    1: 'single',\n",
        "    2: 'married',\n",
        "    3: 'widow',\n",
        "    4: 'separated',\n",
        "    5: 'divorced',\n",
        "    0: 'unk'\n",
        "}\n",
        "\n",
        "df.marital = df.marital.map(marital_values)\n",
        "\n",
        "records_values = {\n",
        "    1: 'no',\n",
        "    2: 'yes',\n",
        "    0: 'unk'\n",
        "}\n",
        "\n",
        "df.records = df.records.map(records_values)\n",
        "\n",
        "job_values = {\n",
        "    1: 'fixed',\n",
        "    2: 'partime',\n",
        "    3: 'freelance',\n",
        "    4: 'others',\n",
        "    0: 'unk'\n",
        "}\n",
        "\n",
        "df.job = df.job.map(job_values)"
      ],
      "metadata": {
        "id": "9tTP2Kv8si11"
      },
      "execution_count": 9,
      "outputs": []
    },
    {
      "cell_type": "code",
      "source": [
        "df.head()"
      ],
      "metadata": {
        "colab": {
          "base_uri": "https://localhost:8080/",
          "height": 206
        },
        "id": "B0vrDAa2uK06",
        "outputId": "cf33bdd0-2f6a-4f34-de4a-0a56aa9899e3"
      },
      "execution_count": 10,
      "outputs": [
        {
          "output_type": "execute_result",
          "data": {
            "text/plain": [
              "    status  seniority   home  time  age  marital records        job  expenses  \\\n",
              "0       ok          9   rent    60   30  married      no  freelance        73   \n",
              "1       ok         17   rent    60   58    widow      no      fixed        48   \n",
              "2  default         10  owner    36   46  married     yes  freelance        90   \n",
              "3       ok          0   rent    60   24   single      no      fixed        63   \n",
              "4       ok          0   rent    36   26   single      no      fixed        46   \n",
              "\n",
              "   income  assets  debt  amount  price  \n",
              "0     129       0     0     800    846  \n",
              "1     131       0     0    1000   1658  \n",
              "2     200    3000     0    2000   2985  \n",
              "3     182    2500     0     900   1325  \n",
              "4     107       0     0     310    910  "
            ],
            "text/html": [
              "\n",
              "  <div id=\"df-04399d04-b9bd-4922-b49e-0bf0e9c555ee\">\n",
              "    <div class=\"colab-df-container\">\n",
              "      <div>\n",
              "<style scoped>\n",
              "    .dataframe tbody tr th:only-of-type {\n",
              "        vertical-align: middle;\n",
              "    }\n",
              "\n",
              "    .dataframe tbody tr th {\n",
              "        vertical-align: top;\n",
              "    }\n",
              "\n",
              "    .dataframe thead th {\n",
              "        text-align: right;\n",
              "    }\n",
              "</style>\n",
              "<table border=\"1\" class=\"dataframe\">\n",
              "  <thead>\n",
              "    <tr style=\"text-align: right;\">\n",
              "      <th></th>\n",
              "      <th>status</th>\n",
              "      <th>seniority</th>\n",
              "      <th>home</th>\n",
              "      <th>time</th>\n",
              "      <th>age</th>\n",
              "      <th>marital</th>\n",
              "      <th>records</th>\n",
              "      <th>job</th>\n",
              "      <th>expenses</th>\n",
              "      <th>income</th>\n",
              "      <th>assets</th>\n",
              "      <th>debt</th>\n",
              "      <th>amount</th>\n",
              "      <th>price</th>\n",
              "    </tr>\n",
              "  </thead>\n",
              "  <tbody>\n",
              "    <tr>\n",
              "      <th>0</th>\n",
              "      <td>ok</td>\n",
              "      <td>9</td>\n",
              "      <td>rent</td>\n",
              "      <td>60</td>\n",
              "      <td>30</td>\n",
              "      <td>married</td>\n",
              "      <td>no</td>\n",
              "      <td>freelance</td>\n",
              "      <td>73</td>\n",
              "      <td>129</td>\n",
              "      <td>0</td>\n",
              "      <td>0</td>\n",
              "      <td>800</td>\n",
              "      <td>846</td>\n",
              "    </tr>\n",
              "    <tr>\n",
              "      <th>1</th>\n",
              "      <td>ok</td>\n",
              "      <td>17</td>\n",
              "      <td>rent</td>\n",
              "      <td>60</td>\n",
              "      <td>58</td>\n",
              "      <td>widow</td>\n",
              "      <td>no</td>\n",
              "      <td>fixed</td>\n",
              "      <td>48</td>\n",
              "      <td>131</td>\n",
              "      <td>0</td>\n",
              "      <td>0</td>\n",
              "      <td>1000</td>\n",
              "      <td>1658</td>\n",
              "    </tr>\n",
              "    <tr>\n",
              "      <th>2</th>\n",
              "      <td>default</td>\n",
              "      <td>10</td>\n",
              "      <td>owner</td>\n",
              "      <td>36</td>\n",
              "      <td>46</td>\n",
              "      <td>married</td>\n",
              "      <td>yes</td>\n",
              "      <td>freelance</td>\n",
              "      <td>90</td>\n",
              "      <td>200</td>\n",
              "      <td>3000</td>\n",
              "      <td>0</td>\n",
              "      <td>2000</td>\n",
              "      <td>2985</td>\n",
              "    </tr>\n",
              "    <tr>\n",
              "      <th>3</th>\n",
              "      <td>ok</td>\n",
              "      <td>0</td>\n",
              "      <td>rent</td>\n",
              "      <td>60</td>\n",
              "      <td>24</td>\n",
              "      <td>single</td>\n",
              "      <td>no</td>\n",
              "      <td>fixed</td>\n",
              "      <td>63</td>\n",
              "      <td>182</td>\n",
              "      <td>2500</td>\n",
              "      <td>0</td>\n",
              "      <td>900</td>\n",
              "      <td>1325</td>\n",
              "    </tr>\n",
              "    <tr>\n",
              "      <th>4</th>\n",
              "      <td>ok</td>\n",
              "      <td>0</td>\n",
              "      <td>rent</td>\n",
              "      <td>36</td>\n",
              "      <td>26</td>\n",
              "      <td>single</td>\n",
              "      <td>no</td>\n",
              "      <td>fixed</td>\n",
              "      <td>46</td>\n",
              "      <td>107</td>\n",
              "      <td>0</td>\n",
              "      <td>0</td>\n",
              "      <td>310</td>\n",
              "      <td>910</td>\n",
              "    </tr>\n",
              "  </tbody>\n",
              "</table>\n",
              "</div>\n",
              "      <button class=\"colab-df-convert\" onclick=\"convertToInteractive('df-04399d04-b9bd-4922-b49e-0bf0e9c555ee')\"\n",
              "              title=\"Convert this dataframe to an interactive table.\"\n",
              "              style=\"display:none;\">\n",
              "        \n",
              "  <svg xmlns=\"http://www.w3.org/2000/svg\" height=\"24px\"viewBox=\"0 0 24 24\"\n",
              "       width=\"24px\">\n",
              "    <path d=\"M0 0h24v24H0V0z\" fill=\"none\"/>\n",
              "    <path d=\"M18.56 5.44l.94 2.06.94-2.06 2.06-.94-2.06-.94-.94-2.06-.94 2.06-2.06.94zm-11 1L8.5 8.5l.94-2.06 2.06-.94-2.06-.94L8.5 2.5l-.94 2.06-2.06.94zm10 10l.94 2.06.94-2.06 2.06-.94-2.06-.94-.94-2.06-.94 2.06-2.06.94z\"/><path d=\"M17.41 7.96l-1.37-1.37c-.4-.4-.92-.59-1.43-.59-.52 0-1.04.2-1.43.59L10.3 9.45l-7.72 7.72c-.78.78-.78 2.05 0 2.83L4 21.41c.39.39.9.59 1.41.59.51 0 1.02-.2 1.41-.59l7.78-7.78 2.81-2.81c.8-.78.8-2.07 0-2.86zM5.41 20L4 18.59l7.72-7.72 1.47 1.35L5.41 20z\"/>\n",
              "  </svg>\n",
              "      </button>\n",
              "      \n",
              "  <style>\n",
              "    .colab-df-container {\n",
              "      display:flex;\n",
              "      flex-wrap:wrap;\n",
              "      gap: 12px;\n",
              "    }\n",
              "\n",
              "    .colab-df-convert {\n",
              "      background-color: #E8F0FE;\n",
              "      border: none;\n",
              "      border-radius: 50%;\n",
              "      cursor: pointer;\n",
              "      display: none;\n",
              "      fill: #1967D2;\n",
              "      height: 32px;\n",
              "      padding: 0 0 0 0;\n",
              "      width: 32px;\n",
              "    }\n",
              "\n",
              "    .colab-df-convert:hover {\n",
              "      background-color: #E2EBFA;\n",
              "      box-shadow: 0px 1px 2px rgba(60, 64, 67, 0.3), 0px 1px 3px 1px rgba(60, 64, 67, 0.15);\n",
              "      fill: #174EA6;\n",
              "    }\n",
              "\n",
              "    [theme=dark] .colab-df-convert {\n",
              "      background-color: #3B4455;\n",
              "      fill: #D2E3FC;\n",
              "    }\n",
              "\n",
              "    [theme=dark] .colab-df-convert:hover {\n",
              "      background-color: #434B5C;\n",
              "      box-shadow: 0px 1px 3px 1px rgba(0, 0, 0, 0.15);\n",
              "      filter: drop-shadow(0px 1px 2px rgba(0, 0, 0, 0.3));\n",
              "      fill: #FFFFFF;\n",
              "    }\n",
              "  </style>\n",
              "\n",
              "      <script>\n",
              "        const buttonEl =\n",
              "          document.querySelector('#df-04399d04-b9bd-4922-b49e-0bf0e9c555ee button.colab-df-convert');\n",
              "        buttonEl.style.display =\n",
              "          google.colab.kernel.accessAllowed ? 'block' : 'none';\n",
              "\n",
              "        async function convertToInteractive(key) {\n",
              "          const element = document.querySelector('#df-04399d04-b9bd-4922-b49e-0bf0e9c555ee');\n",
              "          const dataTable =\n",
              "            await google.colab.kernel.invokeFunction('convertToInteractive',\n",
              "                                                     [key], {});\n",
              "          if (!dataTable) return;\n",
              "\n",
              "          const docLinkHtml = 'Like what you see? Visit the ' +\n",
              "            '<a target=\"_blank\" href=https://colab.research.google.com/notebooks/data_table.ipynb>data table notebook</a>'\n",
              "            + ' to learn more about interactive tables.';\n",
              "          element.innerHTML = '';\n",
              "          dataTable['output_type'] = 'display_data';\n",
              "          await google.colab.output.renderOutput(dataTable, element);\n",
              "          const docLink = document.createElement('div');\n",
              "          docLink.innerHTML = docLinkHtml;\n",
              "          element.appendChild(docLink);\n",
              "        }\n",
              "      </script>\n",
              "    </div>\n",
              "  </div>\n",
              "  "
            ]
          },
          "metadata": {},
          "execution_count": 10
        }
      ]
    },
    {
      "cell_type": "code",
      "source": [
        "df.describe().round()"
      ],
      "metadata": {
        "colab": {
          "base_uri": "https://localhost:8080/",
          "height": 300
        },
        "id": "ELw8421CuLQ4",
        "outputId": "4014777e-01a7-430a-b350-e54cba2d55e2"
      },
      "execution_count": 11,
      "outputs": [
        {
          "output_type": "execute_result",
          "data": {
            "text/plain": [
              "       seniority    time     age  expenses      income      assets  \\\n",
              "count     4455.0  4455.0  4455.0    4455.0      4455.0      4455.0   \n",
              "mean         8.0    46.0    37.0      56.0    763317.0   1060341.0   \n",
              "std          8.0    15.0    11.0      20.0   8703625.0  10217569.0   \n",
              "min          0.0     6.0    18.0      35.0         0.0         0.0   \n",
              "25%          2.0    36.0    28.0      35.0        80.0         0.0   \n",
              "50%          5.0    48.0    36.0      51.0       120.0      3500.0   \n",
              "75%         12.0    60.0    45.0      72.0       166.0      6000.0   \n",
              "max         48.0    72.0    68.0     180.0  99999999.0  99999999.0   \n",
              "\n",
              "             debt  amount    price  \n",
              "count      4455.0  4455.0   4455.0  \n",
              "mean     404382.0  1039.0   1463.0  \n",
              "std     6344253.0   475.0    628.0  \n",
              "min           0.0   100.0    105.0  \n",
              "25%           0.0   700.0   1118.0  \n",
              "50%           0.0  1000.0   1400.0  \n",
              "75%           0.0  1300.0   1692.0  \n",
              "max    99999999.0  5000.0  11140.0  "
            ],
            "text/html": [
              "\n",
              "  <div id=\"df-612f0580-348b-40e1-83ad-7ebf2ec63d6f\">\n",
              "    <div class=\"colab-df-container\">\n",
              "      <div>\n",
              "<style scoped>\n",
              "    .dataframe tbody tr th:only-of-type {\n",
              "        vertical-align: middle;\n",
              "    }\n",
              "\n",
              "    .dataframe tbody tr th {\n",
              "        vertical-align: top;\n",
              "    }\n",
              "\n",
              "    .dataframe thead th {\n",
              "        text-align: right;\n",
              "    }\n",
              "</style>\n",
              "<table border=\"1\" class=\"dataframe\">\n",
              "  <thead>\n",
              "    <tr style=\"text-align: right;\">\n",
              "      <th></th>\n",
              "      <th>seniority</th>\n",
              "      <th>time</th>\n",
              "      <th>age</th>\n",
              "      <th>expenses</th>\n",
              "      <th>income</th>\n",
              "      <th>assets</th>\n",
              "      <th>debt</th>\n",
              "      <th>amount</th>\n",
              "      <th>price</th>\n",
              "    </tr>\n",
              "  </thead>\n",
              "  <tbody>\n",
              "    <tr>\n",
              "      <th>count</th>\n",
              "      <td>4455.0</td>\n",
              "      <td>4455.0</td>\n",
              "      <td>4455.0</td>\n",
              "      <td>4455.0</td>\n",
              "      <td>4455.0</td>\n",
              "      <td>4455.0</td>\n",
              "      <td>4455.0</td>\n",
              "      <td>4455.0</td>\n",
              "      <td>4455.0</td>\n",
              "    </tr>\n",
              "    <tr>\n",
              "      <th>mean</th>\n",
              "      <td>8.0</td>\n",
              "      <td>46.0</td>\n",
              "      <td>37.0</td>\n",
              "      <td>56.0</td>\n",
              "      <td>763317.0</td>\n",
              "      <td>1060341.0</td>\n",
              "      <td>404382.0</td>\n",
              "      <td>1039.0</td>\n",
              "      <td>1463.0</td>\n",
              "    </tr>\n",
              "    <tr>\n",
              "      <th>std</th>\n",
              "      <td>8.0</td>\n",
              "      <td>15.0</td>\n",
              "      <td>11.0</td>\n",
              "      <td>20.0</td>\n",
              "      <td>8703625.0</td>\n",
              "      <td>10217569.0</td>\n",
              "      <td>6344253.0</td>\n",
              "      <td>475.0</td>\n",
              "      <td>628.0</td>\n",
              "    </tr>\n",
              "    <tr>\n",
              "      <th>min</th>\n",
              "      <td>0.0</td>\n",
              "      <td>6.0</td>\n",
              "      <td>18.0</td>\n",
              "      <td>35.0</td>\n",
              "      <td>0.0</td>\n",
              "      <td>0.0</td>\n",
              "      <td>0.0</td>\n",
              "      <td>100.0</td>\n",
              "      <td>105.0</td>\n",
              "    </tr>\n",
              "    <tr>\n",
              "      <th>25%</th>\n",
              "      <td>2.0</td>\n",
              "      <td>36.0</td>\n",
              "      <td>28.0</td>\n",
              "      <td>35.0</td>\n",
              "      <td>80.0</td>\n",
              "      <td>0.0</td>\n",
              "      <td>0.0</td>\n",
              "      <td>700.0</td>\n",
              "      <td>1118.0</td>\n",
              "    </tr>\n",
              "    <tr>\n",
              "      <th>50%</th>\n",
              "      <td>5.0</td>\n",
              "      <td>48.0</td>\n",
              "      <td>36.0</td>\n",
              "      <td>51.0</td>\n",
              "      <td>120.0</td>\n",
              "      <td>3500.0</td>\n",
              "      <td>0.0</td>\n",
              "      <td>1000.0</td>\n",
              "      <td>1400.0</td>\n",
              "    </tr>\n",
              "    <tr>\n",
              "      <th>75%</th>\n",
              "      <td>12.0</td>\n",
              "      <td>60.0</td>\n",
              "      <td>45.0</td>\n",
              "      <td>72.0</td>\n",
              "      <td>166.0</td>\n",
              "      <td>6000.0</td>\n",
              "      <td>0.0</td>\n",
              "      <td>1300.0</td>\n",
              "      <td>1692.0</td>\n",
              "    </tr>\n",
              "    <tr>\n",
              "      <th>max</th>\n",
              "      <td>48.0</td>\n",
              "      <td>72.0</td>\n",
              "      <td>68.0</td>\n",
              "      <td>180.0</td>\n",
              "      <td>99999999.0</td>\n",
              "      <td>99999999.0</td>\n",
              "      <td>99999999.0</td>\n",
              "      <td>5000.0</td>\n",
              "      <td>11140.0</td>\n",
              "    </tr>\n",
              "  </tbody>\n",
              "</table>\n",
              "</div>\n",
              "      <button class=\"colab-df-convert\" onclick=\"convertToInteractive('df-612f0580-348b-40e1-83ad-7ebf2ec63d6f')\"\n",
              "              title=\"Convert this dataframe to an interactive table.\"\n",
              "              style=\"display:none;\">\n",
              "        \n",
              "  <svg xmlns=\"http://www.w3.org/2000/svg\" height=\"24px\"viewBox=\"0 0 24 24\"\n",
              "       width=\"24px\">\n",
              "    <path d=\"M0 0h24v24H0V0z\" fill=\"none\"/>\n",
              "    <path d=\"M18.56 5.44l.94 2.06.94-2.06 2.06-.94-2.06-.94-.94-2.06-.94 2.06-2.06.94zm-11 1L8.5 8.5l.94-2.06 2.06-.94-2.06-.94L8.5 2.5l-.94 2.06-2.06.94zm10 10l.94 2.06.94-2.06 2.06-.94-2.06-.94-.94-2.06-.94 2.06-2.06.94z\"/><path d=\"M17.41 7.96l-1.37-1.37c-.4-.4-.92-.59-1.43-.59-.52 0-1.04.2-1.43.59L10.3 9.45l-7.72 7.72c-.78.78-.78 2.05 0 2.83L4 21.41c.39.39.9.59 1.41.59.51 0 1.02-.2 1.41-.59l7.78-7.78 2.81-2.81c.8-.78.8-2.07 0-2.86zM5.41 20L4 18.59l7.72-7.72 1.47 1.35L5.41 20z\"/>\n",
              "  </svg>\n",
              "      </button>\n",
              "      \n",
              "  <style>\n",
              "    .colab-df-container {\n",
              "      display:flex;\n",
              "      flex-wrap:wrap;\n",
              "      gap: 12px;\n",
              "    }\n",
              "\n",
              "    .colab-df-convert {\n",
              "      background-color: #E8F0FE;\n",
              "      border: none;\n",
              "      border-radius: 50%;\n",
              "      cursor: pointer;\n",
              "      display: none;\n",
              "      fill: #1967D2;\n",
              "      height: 32px;\n",
              "      padding: 0 0 0 0;\n",
              "      width: 32px;\n",
              "    }\n",
              "\n",
              "    .colab-df-convert:hover {\n",
              "      background-color: #E2EBFA;\n",
              "      box-shadow: 0px 1px 2px rgba(60, 64, 67, 0.3), 0px 1px 3px 1px rgba(60, 64, 67, 0.15);\n",
              "      fill: #174EA6;\n",
              "    }\n",
              "\n",
              "    [theme=dark] .colab-df-convert {\n",
              "      background-color: #3B4455;\n",
              "      fill: #D2E3FC;\n",
              "    }\n",
              "\n",
              "    [theme=dark] .colab-df-convert:hover {\n",
              "      background-color: #434B5C;\n",
              "      box-shadow: 0px 1px 3px 1px rgba(0, 0, 0, 0.15);\n",
              "      filter: drop-shadow(0px 1px 2px rgba(0, 0, 0, 0.3));\n",
              "      fill: #FFFFFF;\n",
              "    }\n",
              "  </style>\n",
              "\n",
              "      <script>\n",
              "        const buttonEl =\n",
              "          document.querySelector('#df-612f0580-348b-40e1-83ad-7ebf2ec63d6f button.colab-df-convert');\n",
              "        buttonEl.style.display =\n",
              "          google.colab.kernel.accessAllowed ? 'block' : 'none';\n",
              "\n",
              "        async function convertToInteractive(key) {\n",
              "          const element = document.querySelector('#df-612f0580-348b-40e1-83ad-7ebf2ec63d6f');\n",
              "          const dataTable =\n",
              "            await google.colab.kernel.invokeFunction('convertToInteractive',\n",
              "                                                     [key], {});\n",
              "          if (!dataTable) return;\n",
              "\n",
              "          const docLinkHtml = 'Like what you see? Visit the ' +\n",
              "            '<a target=\"_blank\" href=https://colab.research.google.com/notebooks/data_table.ipynb>data table notebook</a>'\n",
              "            + ' to learn more about interactive tables.';\n",
              "          element.innerHTML = '';\n",
              "          dataTable['output_type'] = 'display_data';\n",
              "          await google.colab.output.renderOutput(dataTable, element);\n",
              "          const docLink = document.createElement('div');\n",
              "          docLink.innerHTML = docLinkHtml;\n",
              "          element.appendChild(docLink);\n",
              "        }\n",
              "      </script>\n",
              "    </div>\n",
              "  </div>\n",
              "  "
            ]
          },
          "metadata": {},
          "execution_count": 11
        }
      ]
    },
    {
      "cell_type": "code",
      "source": [
        "for c in ['income', 'assets', 'debt']:\n",
        "  df[c] = df[c].replace(to_replace = 99999999, value=np.nan)\n",
        "  "
      ],
      "metadata": {
        "id": "nrZawlScuOaN"
      },
      "execution_count": 12,
      "outputs": []
    },
    {
      "cell_type": "code",
      "source": [
        "df = df[df.status != 'unk'].reset_index(drop = True)"
      ],
      "metadata": {
        "id": "HjqLLX18uvq-"
      },
      "execution_count": 13,
      "outputs": []
    },
    {
      "cell_type": "code",
      "source": [
        "from sklearn.model_selection import train_test_split\n",
        "\n",
        "df_full_train, df_test = train_test_split(df, test_size = 0.2, random_state = 11)\n",
        "df_train, df_val = train_test_split(df_full_train, test_size = 0.25, random_state = 11)"
      ],
      "metadata": {
        "id": "aVUIVBKJvBW_"
      },
      "execution_count": 14,
      "outputs": []
    },
    {
      "cell_type": "code",
      "source": [
        "df_train = df_train.reset_index(drop = True)\n",
        "df_val = df_val.reset_index(drop = True)\n",
        "df_test = df_test.reset_index(drop = True)"
      ],
      "metadata": {
        "id": "aGCADpedv07f"
      },
      "execution_count": 15,
      "outputs": []
    },
    {
      "cell_type": "code",
      "source": [
        "y_train = (df_train.status == 'default').astype('int').values\n",
        "y_val = (df_val.status == 'default').astype('int').values\n",
        "y_test = (df_test.status == 'default').astype('int').values"
      ],
      "metadata": {
        "id": "CSAVGzLzwA3r"
      },
      "execution_count": 16,
      "outputs": []
    },
    {
      "cell_type": "code",
      "source": [
        "del df_train['status']\n",
        "del df_val['status']\n",
        "del df_test['status']"
      ],
      "metadata": {
        "id": "DHPdX5P1wDUS"
      },
      "execution_count": 17,
      "outputs": []
    },
    {
      "cell_type": "code",
      "source": [
        "df_train"
      ],
      "metadata": {
        "colab": {
          "base_uri": "https://localhost:8080/",
          "height": 424
        },
        "id": "2CZDF-mGwksU",
        "outputId": "21d25b72-f6d5-4de3-ad7a-4076c2ebf977"
      },
      "execution_count": 18,
      "outputs": [
        {
          "output_type": "execute_result",
          "data": {
            "text/plain": [
              "      seniority     home  time  age  marital records        job  expenses  \\\n",
              "0            10    owner    36   36  married      no  freelance        75   \n",
              "1             6  parents    48   32   single     yes      fixed        35   \n",
              "2             1  parents    48   40  married      no      fixed        75   \n",
              "3             1  parents    48   23   single      no    partime        35   \n",
              "4             5    owner    36   46  married      no  freelance        60   \n",
              "...         ...      ...   ...  ...      ...     ...        ...       ...   \n",
              "2667         18  private    36   45  married      no      fixed        45   \n",
              "2668          7  private    60   29  married      no      fixed        60   \n",
              "2669          1  parents    24   19   single      no      fixed        35   \n",
              "2670         15    owner    48   43  married      no  freelance        60   \n",
              "2671         12    owner    48   27  married     yes      fixed        45   \n",
              "\n",
              "      income   assets    debt  amount  price  \n",
              "0        0.0  10000.0     0.0    1000   1400  \n",
              "1       85.0      0.0     0.0    1100   1330  \n",
              "2      121.0      0.0     0.0    1320   1600  \n",
              "3       72.0      0.0     0.0    1078   1079  \n",
              "4      100.0   4000.0     0.0    1100   1897  \n",
              "...      ...      ...     ...     ...    ...  \n",
              "2667   220.0  20000.0     0.0     800   1600  \n",
              "2668    51.0   3500.0   500.0    1000   1290  \n",
              "2669    28.0      0.0     0.0     400    600  \n",
              "2670   100.0  18000.0     0.0    2500   2976  \n",
              "2671   110.0   5000.0  1300.0     450   1636  \n",
              "\n",
              "[2672 rows x 13 columns]"
            ],
            "text/html": [
              "\n",
              "  <div id=\"df-d95ce9bd-d221-4549-8d6c-86ec72930ed2\">\n",
              "    <div class=\"colab-df-container\">\n",
              "      <div>\n",
              "<style scoped>\n",
              "    .dataframe tbody tr th:only-of-type {\n",
              "        vertical-align: middle;\n",
              "    }\n",
              "\n",
              "    .dataframe tbody tr th {\n",
              "        vertical-align: top;\n",
              "    }\n",
              "\n",
              "    .dataframe thead th {\n",
              "        text-align: right;\n",
              "    }\n",
              "</style>\n",
              "<table border=\"1\" class=\"dataframe\">\n",
              "  <thead>\n",
              "    <tr style=\"text-align: right;\">\n",
              "      <th></th>\n",
              "      <th>seniority</th>\n",
              "      <th>home</th>\n",
              "      <th>time</th>\n",
              "      <th>age</th>\n",
              "      <th>marital</th>\n",
              "      <th>records</th>\n",
              "      <th>job</th>\n",
              "      <th>expenses</th>\n",
              "      <th>income</th>\n",
              "      <th>assets</th>\n",
              "      <th>debt</th>\n",
              "      <th>amount</th>\n",
              "      <th>price</th>\n",
              "    </tr>\n",
              "  </thead>\n",
              "  <tbody>\n",
              "    <tr>\n",
              "      <th>0</th>\n",
              "      <td>10</td>\n",
              "      <td>owner</td>\n",
              "      <td>36</td>\n",
              "      <td>36</td>\n",
              "      <td>married</td>\n",
              "      <td>no</td>\n",
              "      <td>freelance</td>\n",
              "      <td>75</td>\n",
              "      <td>0.0</td>\n",
              "      <td>10000.0</td>\n",
              "      <td>0.0</td>\n",
              "      <td>1000</td>\n",
              "      <td>1400</td>\n",
              "    </tr>\n",
              "    <tr>\n",
              "      <th>1</th>\n",
              "      <td>6</td>\n",
              "      <td>parents</td>\n",
              "      <td>48</td>\n",
              "      <td>32</td>\n",
              "      <td>single</td>\n",
              "      <td>yes</td>\n",
              "      <td>fixed</td>\n",
              "      <td>35</td>\n",
              "      <td>85.0</td>\n",
              "      <td>0.0</td>\n",
              "      <td>0.0</td>\n",
              "      <td>1100</td>\n",
              "      <td>1330</td>\n",
              "    </tr>\n",
              "    <tr>\n",
              "      <th>2</th>\n",
              "      <td>1</td>\n",
              "      <td>parents</td>\n",
              "      <td>48</td>\n",
              "      <td>40</td>\n",
              "      <td>married</td>\n",
              "      <td>no</td>\n",
              "      <td>fixed</td>\n",
              "      <td>75</td>\n",
              "      <td>121.0</td>\n",
              "      <td>0.0</td>\n",
              "      <td>0.0</td>\n",
              "      <td>1320</td>\n",
              "      <td>1600</td>\n",
              "    </tr>\n",
              "    <tr>\n",
              "      <th>3</th>\n",
              "      <td>1</td>\n",
              "      <td>parents</td>\n",
              "      <td>48</td>\n",
              "      <td>23</td>\n",
              "      <td>single</td>\n",
              "      <td>no</td>\n",
              "      <td>partime</td>\n",
              "      <td>35</td>\n",
              "      <td>72.0</td>\n",
              "      <td>0.0</td>\n",
              "      <td>0.0</td>\n",
              "      <td>1078</td>\n",
              "      <td>1079</td>\n",
              "    </tr>\n",
              "    <tr>\n",
              "      <th>4</th>\n",
              "      <td>5</td>\n",
              "      <td>owner</td>\n",
              "      <td>36</td>\n",
              "      <td>46</td>\n",
              "      <td>married</td>\n",
              "      <td>no</td>\n",
              "      <td>freelance</td>\n",
              "      <td>60</td>\n",
              "      <td>100.0</td>\n",
              "      <td>4000.0</td>\n",
              "      <td>0.0</td>\n",
              "      <td>1100</td>\n",
              "      <td>1897</td>\n",
              "    </tr>\n",
              "    <tr>\n",
              "      <th>...</th>\n",
              "      <td>...</td>\n",
              "      <td>...</td>\n",
              "      <td>...</td>\n",
              "      <td>...</td>\n",
              "      <td>...</td>\n",
              "      <td>...</td>\n",
              "      <td>...</td>\n",
              "      <td>...</td>\n",
              "      <td>...</td>\n",
              "      <td>...</td>\n",
              "      <td>...</td>\n",
              "      <td>...</td>\n",
              "      <td>...</td>\n",
              "    </tr>\n",
              "    <tr>\n",
              "      <th>2667</th>\n",
              "      <td>18</td>\n",
              "      <td>private</td>\n",
              "      <td>36</td>\n",
              "      <td>45</td>\n",
              "      <td>married</td>\n",
              "      <td>no</td>\n",
              "      <td>fixed</td>\n",
              "      <td>45</td>\n",
              "      <td>220.0</td>\n",
              "      <td>20000.0</td>\n",
              "      <td>0.0</td>\n",
              "      <td>800</td>\n",
              "      <td>1600</td>\n",
              "    </tr>\n",
              "    <tr>\n",
              "      <th>2668</th>\n",
              "      <td>7</td>\n",
              "      <td>private</td>\n",
              "      <td>60</td>\n",
              "      <td>29</td>\n",
              "      <td>married</td>\n",
              "      <td>no</td>\n",
              "      <td>fixed</td>\n",
              "      <td>60</td>\n",
              "      <td>51.0</td>\n",
              "      <td>3500.0</td>\n",
              "      <td>500.0</td>\n",
              "      <td>1000</td>\n",
              "      <td>1290</td>\n",
              "    </tr>\n",
              "    <tr>\n",
              "      <th>2669</th>\n",
              "      <td>1</td>\n",
              "      <td>parents</td>\n",
              "      <td>24</td>\n",
              "      <td>19</td>\n",
              "      <td>single</td>\n",
              "      <td>no</td>\n",
              "      <td>fixed</td>\n",
              "      <td>35</td>\n",
              "      <td>28.0</td>\n",
              "      <td>0.0</td>\n",
              "      <td>0.0</td>\n",
              "      <td>400</td>\n",
              "      <td>600</td>\n",
              "    </tr>\n",
              "    <tr>\n",
              "      <th>2670</th>\n",
              "      <td>15</td>\n",
              "      <td>owner</td>\n",
              "      <td>48</td>\n",
              "      <td>43</td>\n",
              "      <td>married</td>\n",
              "      <td>no</td>\n",
              "      <td>freelance</td>\n",
              "      <td>60</td>\n",
              "      <td>100.0</td>\n",
              "      <td>18000.0</td>\n",
              "      <td>0.0</td>\n",
              "      <td>2500</td>\n",
              "      <td>2976</td>\n",
              "    </tr>\n",
              "    <tr>\n",
              "      <th>2671</th>\n",
              "      <td>12</td>\n",
              "      <td>owner</td>\n",
              "      <td>48</td>\n",
              "      <td>27</td>\n",
              "      <td>married</td>\n",
              "      <td>yes</td>\n",
              "      <td>fixed</td>\n",
              "      <td>45</td>\n",
              "      <td>110.0</td>\n",
              "      <td>5000.0</td>\n",
              "      <td>1300.0</td>\n",
              "      <td>450</td>\n",
              "      <td>1636</td>\n",
              "    </tr>\n",
              "  </tbody>\n",
              "</table>\n",
              "<p>2672 rows × 13 columns</p>\n",
              "</div>\n",
              "      <button class=\"colab-df-convert\" onclick=\"convertToInteractive('df-d95ce9bd-d221-4549-8d6c-86ec72930ed2')\"\n",
              "              title=\"Convert this dataframe to an interactive table.\"\n",
              "              style=\"display:none;\">\n",
              "        \n",
              "  <svg xmlns=\"http://www.w3.org/2000/svg\" height=\"24px\"viewBox=\"0 0 24 24\"\n",
              "       width=\"24px\">\n",
              "    <path d=\"M0 0h24v24H0V0z\" fill=\"none\"/>\n",
              "    <path d=\"M18.56 5.44l.94 2.06.94-2.06 2.06-.94-2.06-.94-.94-2.06-.94 2.06-2.06.94zm-11 1L8.5 8.5l.94-2.06 2.06-.94-2.06-.94L8.5 2.5l-.94 2.06-2.06.94zm10 10l.94 2.06.94-2.06 2.06-.94-2.06-.94-.94-2.06-.94 2.06-2.06.94z\"/><path d=\"M17.41 7.96l-1.37-1.37c-.4-.4-.92-.59-1.43-.59-.52 0-1.04.2-1.43.59L10.3 9.45l-7.72 7.72c-.78.78-.78 2.05 0 2.83L4 21.41c.39.39.9.59 1.41.59.51 0 1.02-.2 1.41-.59l7.78-7.78 2.81-2.81c.8-.78.8-2.07 0-2.86zM5.41 20L4 18.59l7.72-7.72 1.47 1.35L5.41 20z\"/>\n",
              "  </svg>\n",
              "      </button>\n",
              "      \n",
              "  <style>\n",
              "    .colab-df-container {\n",
              "      display:flex;\n",
              "      flex-wrap:wrap;\n",
              "      gap: 12px;\n",
              "    }\n",
              "\n",
              "    .colab-df-convert {\n",
              "      background-color: #E8F0FE;\n",
              "      border: none;\n",
              "      border-radius: 50%;\n",
              "      cursor: pointer;\n",
              "      display: none;\n",
              "      fill: #1967D2;\n",
              "      height: 32px;\n",
              "      padding: 0 0 0 0;\n",
              "      width: 32px;\n",
              "    }\n",
              "\n",
              "    .colab-df-convert:hover {\n",
              "      background-color: #E2EBFA;\n",
              "      box-shadow: 0px 1px 2px rgba(60, 64, 67, 0.3), 0px 1px 3px 1px rgba(60, 64, 67, 0.15);\n",
              "      fill: #174EA6;\n",
              "    }\n",
              "\n",
              "    [theme=dark] .colab-df-convert {\n",
              "      background-color: #3B4455;\n",
              "      fill: #D2E3FC;\n",
              "    }\n",
              "\n",
              "    [theme=dark] .colab-df-convert:hover {\n",
              "      background-color: #434B5C;\n",
              "      box-shadow: 0px 1px 3px 1px rgba(0, 0, 0, 0.15);\n",
              "      filter: drop-shadow(0px 1px 2px rgba(0, 0, 0, 0.3));\n",
              "      fill: #FFFFFF;\n",
              "    }\n",
              "  </style>\n",
              "\n",
              "      <script>\n",
              "        const buttonEl =\n",
              "          document.querySelector('#df-d95ce9bd-d221-4549-8d6c-86ec72930ed2 button.colab-df-convert');\n",
              "        buttonEl.style.display =\n",
              "          google.colab.kernel.accessAllowed ? 'block' : 'none';\n",
              "\n",
              "        async function convertToInteractive(key) {\n",
              "          const element = document.querySelector('#df-d95ce9bd-d221-4549-8d6c-86ec72930ed2');\n",
              "          const dataTable =\n",
              "            await google.colab.kernel.invokeFunction('convertToInteractive',\n",
              "                                                     [key], {});\n",
              "          if (!dataTable) return;\n",
              "\n",
              "          const docLinkHtml = 'Like what you see? Visit the ' +\n",
              "            '<a target=\"_blank\" href=https://colab.research.google.com/notebooks/data_table.ipynb>data table notebook</a>'\n",
              "            + ' to learn more about interactive tables.';\n",
              "          element.innerHTML = '';\n",
              "          dataTable['output_type'] = 'display_data';\n",
              "          await google.colab.output.renderOutput(dataTable, element);\n",
              "          const docLink = document.createElement('div');\n",
              "          docLink.innerHTML = docLinkHtml;\n",
              "          element.appendChild(docLink);\n",
              "        }\n",
              "      </script>\n",
              "    </div>\n",
              "  </div>\n",
              "  "
            ]
          },
          "metadata": {},
          "execution_count": 18
        }
      ]
    },
    {
      "cell_type": "markdown",
      "source": [
        "# Decision Trees"
      ],
      "metadata": {
        "id": "8v8CeLMPwvvi"
      }
    },
    {
      "cell_type": "code",
      "source": [
        "from sklearn.tree import DecisionTreeClassifier\n",
        "from sklearn.feature_extraction import DictVectorizer\n",
        "from sklearn.metrics import roc_auc_score"
      ],
      "metadata": {
        "id": "EPWVCvrBwl_k"
      },
      "execution_count": 19,
      "outputs": []
    },
    {
      "cell_type": "code",
      "source": [
        "train_dicts = df_train.fillna(0).to_dict(orient='records')"
      ],
      "metadata": {
        "id": "5bpm4zzixd2K"
      },
      "execution_count": 20,
      "outputs": []
    },
    {
      "cell_type": "code",
      "source": [
        "dict_vec = DictVectorizer(sparse = False)\n",
        "X_train = dict_vec.fit_transform(train_dicts)"
      ],
      "metadata": {
        "id": "5mEn-xCkxiwY"
      },
      "execution_count": 21,
      "outputs": []
    },
    {
      "cell_type": "code",
      "source": [
        "tree = DecisionTreeClassifier()\n",
        "tree.fit(X_train, y_train)"
      ],
      "metadata": {
        "colab": {
          "base_uri": "https://localhost:8080/"
        },
        "id": "p9Musd60xuxY",
        "outputId": "5ee29851-a32f-441f-b420-4c99ea19d899"
      },
      "execution_count": 22,
      "outputs": [
        {
          "output_type": "execute_result",
          "data": {
            "text/plain": [
              "DecisionTreeClassifier()"
            ]
          },
          "metadata": {},
          "execution_count": 22
        }
      ]
    },
    {
      "cell_type": "code",
      "source": [
        "val_dicts = df_val.fillna(0).to_dict(orient='records')\n",
        "X_val = dict_vec.transform(val_dicts)"
      ],
      "metadata": {
        "id": "AcZsN99hzGgO"
      },
      "execution_count": 23,
      "outputs": []
    },
    {
      "cell_type": "code",
      "source": [
        "y_pred = tree.predict_proba(X_val)[:,1]"
      ],
      "metadata": {
        "id": "o998Lz4Gxx31"
      },
      "execution_count": 24,
      "outputs": []
    },
    {
      "cell_type": "code",
      "source": [
        "roc_auc_score(y_val, y_pred)"
      ],
      "metadata": {
        "colab": {
          "base_uri": "https://localhost:8080/"
        },
        "id": "aUi9xX2rzDKb",
        "outputId": "8752c4fb-3c81-4a5a-8970-517c14856ebc"
      },
      "execution_count": 25,
      "outputs": [
        {
          "output_type": "execute_result",
          "data": {
            "text/plain": [
              "0.6627533845147854"
            ]
          },
          "metadata": {},
          "execution_count": 25
        }
      ]
    },
    {
      "cell_type": "code",
      "source": [
        "y_pred = tree.predict_proba(X_train)[:,1]\n",
        "roc_auc_score(y_train, y_pred)\n",
        "#overfitting occured"
      ],
      "metadata": {
        "colab": {
          "base_uri": "https://localhost:8080/"
        },
        "id": "-vT6MrA8zhhB",
        "outputId": "24308328-e402-4c69-b572-6c5fd208cb8e"
      },
      "execution_count": 26,
      "outputs": [
        {
          "output_type": "execute_result",
          "data": {
            "text/plain": [
              "1.0"
            ]
          },
          "metadata": {},
          "execution_count": 26
        }
      ]
    },
    {
      "cell_type": "markdown",
      "source": [
        "Avoid Overfitting"
      ],
      "metadata": {
        "id": "ouuuPMVJz9tC"
      }
    },
    {
      "cell_type": "code",
      "source": [
        "act_tree = DecisionTreeClassifier(max_depth = 3)\n",
        "act_tree.fit(X_train, y_train)"
      ],
      "metadata": {
        "colab": {
          "base_uri": "https://localhost:8080/"
        },
        "id": "b640UwAazt8i",
        "outputId": "e52f255c-2a66-4bcf-8f84-98526c639c94"
      },
      "execution_count": 27,
      "outputs": [
        {
          "output_type": "execute_result",
          "data": {
            "text/plain": [
              "DecisionTreeClassifier(max_depth=3)"
            ]
          },
          "metadata": {},
          "execution_count": 27
        }
      ]
    },
    {
      "cell_type": "code",
      "source": [
        "y_pred = act_tree.predict_proba(X_train)[:,1]\n",
        "auc = roc_auc_score(y_train, y_pred)\n",
        "print('train: ', auc)\n",
        "\n",
        "y_pred = act_tree.predict_proba(X_val)[:,1]\n",
        "auc = roc_auc_score(y_val, y_pred)\n",
        "print('val: ', auc)"
      ],
      "metadata": {
        "colab": {
          "base_uri": "https://localhost:8080/"
        },
        "id": "TWOn60k20N7c",
        "outputId": "c9d5c7b4-cefb-4d01-ae62-5ee10aa1c5ae"
      },
      "execution_count": 28,
      "outputs": [
        {
          "output_type": "stream",
          "name": "stdout",
          "text": [
            "train:  0.7761016984958594\n",
            "val:  0.7389079944782155\n"
          ]
        }
      ]
    },
    {
      "cell_type": "code",
      "source": [
        "from sklearn.tree import export_text"
      ],
      "metadata": {
        "id": "hl0bm36Y0qb_"
      },
      "execution_count": 29,
      "outputs": []
    },
    {
      "cell_type": "code",
      "source": [
        "print(export_text(act_tree,  feature_names =  dict_vec.get_feature_names()))"
      ],
      "metadata": {
        "colab": {
          "base_uri": "https://localhost:8080/"
        },
        "id": "xejnM2fb0xWj",
        "outputId": "8f5679c5-9bf3-4283-f17a-2a87a61a3e34"
      },
      "execution_count": 30,
      "outputs": [
        {
          "output_type": "stream",
          "name": "stdout",
          "text": [
            "|--- records=yes <= 0.50\n",
            "|   |--- job=partime <= 0.50\n",
            "|   |   |--- income <= 74.50\n",
            "|   |   |   |--- class: 0\n",
            "|   |   |--- income >  74.50\n",
            "|   |   |   |--- class: 0\n",
            "|   |--- job=partime >  0.50\n",
            "|   |   |--- assets <= 8750.00\n",
            "|   |   |   |--- class: 1\n",
            "|   |   |--- assets >  8750.00\n",
            "|   |   |   |--- class: 0\n",
            "|--- records=yes >  0.50\n",
            "|   |--- seniority <= 6.50\n",
            "|   |   |--- amount <= 862.50\n",
            "|   |   |   |--- class: 0\n",
            "|   |   |--- amount >  862.50\n",
            "|   |   |   |--- class: 1\n",
            "|   |--- seniority >  6.50\n",
            "|   |   |--- income <= 103.50\n",
            "|   |   |   |--- class: 1\n",
            "|   |   |--- income >  103.50\n",
            "|   |   |   |--- class: 0\n",
            "\n"
          ]
        },
        {
          "output_type": "stream",
          "name": "stderr",
          "text": [
            "/usr/local/lib/python3.7/dist-packages/sklearn/utils/deprecation.py:87: FutureWarning: Function get_feature_names is deprecated; get_feature_names is deprecated in 1.0 and will be removed in 1.2. Please use get_feature_names_out instead.\n",
            "  warnings.warn(msg, category=FutureWarning)\n"
          ]
        }
      ]
    },
    {
      "cell_type": "markdown",
      "source": [
        "# Decision Trees Parameter Tuning"
      ],
      "metadata": {
        "id": "zkGMviV23aqy"
      }
    },
    {
      "cell_type": "code",
      "source": [
        "for depth in [1,2,3,4,5,6,10,15,20,None]:\n",
        "  d_tree = DecisionTreeClassifier(max_depth = depth)\n",
        "  d_tree.fit(X_train, y_train)\n",
        "\n",
        "  y_pred = d_tree.predict_proba(X_val)[:,1]\n",
        "  auc = roc_auc_score(y_val, y_pred)\n",
        "\n",
        "  print('%4s ==> %3f'%(depth,auc))"
      ],
      "metadata": {
        "colab": {
          "base_uri": "https://localhost:8080/"
        },
        "id": "Pi-AIJUh0_pp",
        "outputId": "3bcb86fd-6b71-44a9-eb9b-94ee3e16691d"
      },
      "execution_count": 31,
      "outputs": [
        {
          "output_type": "stream",
          "name": "stdout",
          "text": [
            "   1 ==> 0.605864\n",
            "   2 ==> 0.668526\n",
            "   3 ==> 0.738908\n",
            "   4 ==> 0.761283\n",
            "   5 ==> 0.766938\n",
            "   6 ==> 0.759563\n",
            "  10 ==> 0.698245\n",
            "  15 ==> 0.685286\n",
            "  20 ==> 0.664037\n",
            "None ==> 0.658155\n"
          ]
        }
      ]
    },
    {
      "cell_type": "code",
      "source": [
        "scores = []\n",
        "\n",
        "for depth in [4,5,6, 7, 10, 15, 20]:\n",
        "  for sample_num in [1,2,5,10,15,20,100,200,500]:\n",
        "    d_tree = DecisionTreeClassifier(max_depth = depth, min_samples_leaf= sample_num)\n",
        "    d_tree.fit(X_train, y_train)\n",
        "\n",
        "    y_pred = d_tree.predict_proba(X_val)[:,1]\n",
        "    auc = roc_auc_score(y_val, y_pred)\n",
        "    scores.append((depth, sample_num, auc))\n",
        "    #print('(%4s, %3d) ==> %.3f' % (depth, sample_num, auc))"
      ],
      "metadata": {
        "id": "9auFHuIm4Org"
      },
      "execution_count": 46,
      "outputs": []
    },
    {
      "cell_type": "code",
      "source": [
        "columns = ['max_depth', 'min_samples_leaf', 'auc']\n",
        "df_scores = pd.DataFrame(scores, columns = columns)\n",
        "df_scores.head()"
      ],
      "metadata": {
        "id": "wYRyLTc85FHc",
        "colab": {
          "base_uri": "https://localhost:8080/",
          "height": 206
        },
        "outputId": "72870918-eaf8-464c-8049-6d4524aa4f2c"
      },
      "execution_count": 47,
      "outputs": [
        {
          "output_type": "execute_result",
          "data": {
            "text/plain": [
              "   max_depth  min_samples_leaf       auc\n",
              "0          4                 1  0.761283\n",
              "1          4                 2  0.761283\n",
              "2          4                 5  0.761283\n",
              "3          4                10  0.761283\n",
              "4          4                15  0.763726"
            ],
            "text/html": [
              "\n",
              "  <div id=\"df-395536ba-522b-4dbb-9f0f-22c9447ea28e\">\n",
              "    <div class=\"colab-df-container\">\n",
              "      <div>\n",
              "<style scoped>\n",
              "    .dataframe tbody tr th:only-of-type {\n",
              "        vertical-align: middle;\n",
              "    }\n",
              "\n",
              "    .dataframe tbody tr th {\n",
              "        vertical-align: top;\n",
              "    }\n",
              "\n",
              "    .dataframe thead th {\n",
              "        text-align: right;\n",
              "    }\n",
              "</style>\n",
              "<table border=\"1\" class=\"dataframe\">\n",
              "  <thead>\n",
              "    <tr style=\"text-align: right;\">\n",
              "      <th></th>\n",
              "      <th>max_depth</th>\n",
              "      <th>min_samples_leaf</th>\n",
              "      <th>auc</th>\n",
              "    </tr>\n",
              "  </thead>\n",
              "  <tbody>\n",
              "    <tr>\n",
              "      <th>0</th>\n",
              "      <td>4</td>\n",
              "      <td>1</td>\n",
              "      <td>0.761283</td>\n",
              "    </tr>\n",
              "    <tr>\n",
              "      <th>1</th>\n",
              "      <td>4</td>\n",
              "      <td>2</td>\n",
              "      <td>0.761283</td>\n",
              "    </tr>\n",
              "    <tr>\n",
              "      <th>2</th>\n",
              "      <td>4</td>\n",
              "      <td>5</td>\n",
              "      <td>0.761283</td>\n",
              "    </tr>\n",
              "    <tr>\n",
              "      <th>3</th>\n",
              "      <td>4</td>\n",
              "      <td>10</td>\n",
              "      <td>0.761283</td>\n",
              "    </tr>\n",
              "    <tr>\n",
              "      <th>4</th>\n",
              "      <td>4</td>\n",
              "      <td>15</td>\n",
              "      <td>0.763726</td>\n",
              "    </tr>\n",
              "  </tbody>\n",
              "</table>\n",
              "</div>\n",
              "      <button class=\"colab-df-convert\" onclick=\"convertToInteractive('df-395536ba-522b-4dbb-9f0f-22c9447ea28e')\"\n",
              "              title=\"Convert this dataframe to an interactive table.\"\n",
              "              style=\"display:none;\">\n",
              "        \n",
              "  <svg xmlns=\"http://www.w3.org/2000/svg\" height=\"24px\"viewBox=\"0 0 24 24\"\n",
              "       width=\"24px\">\n",
              "    <path d=\"M0 0h24v24H0V0z\" fill=\"none\"/>\n",
              "    <path d=\"M18.56 5.44l.94 2.06.94-2.06 2.06-.94-2.06-.94-.94-2.06-.94 2.06-2.06.94zm-11 1L8.5 8.5l.94-2.06 2.06-.94-2.06-.94L8.5 2.5l-.94 2.06-2.06.94zm10 10l.94 2.06.94-2.06 2.06-.94-2.06-.94-.94-2.06-.94 2.06-2.06.94z\"/><path d=\"M17.41 7.96l-1.37-1.37c-.4-.4-.92-.59-1.43-.59-.52 0-1.04.2-1.43.59L10.3 9.45l-7.72 7.72c-.78.78-.78 2.05 0 2.83L4 21.41c.39.39.9.59 1.41.59.51 0 1.02-.2 1.41-.59l7.78-7.78 2.81-2.81c.8-.78.8-2.07 0-2.86zM5.41 20L4 18.59l7.72-7.72 1.47 1.35L5.41 20z\"/>\n",
              "  </svg>\n",
              "      </button>\n",
              "      \n",
              "  <style>\n",
              "    .colab-df-container {\n",
              "      display:flex;\n",
              "      flex-wrap:wrap;\n",
              "      gap: 12px;\n",
              "    }\n",
              "\n",
              "    .colab-df-convert {\n",
              "      background-color: #E8F0FE;\n",
              "      border: none;\n",
              "      border-radius: 50%;\n",
              "      cursor: pointer;\n",
              "      display: none;\n",
              "      fill: #1967D2;\n",
              "      height: 32px;\n",
              "      padding: 0 0 0 0;\n",
              "      width: 32px;\n",
              "    }\n",
              "\n",
              "    .colab-df-convert:hover {\n",
              "      background-color: #E2EBFA;\n",
              "      box-shadow: 0px 1px 2px rgba(60, 64, 67, 0.3), 0px 1px 3px 1px rgba(60, 64, 67, 0.15);\n",
              "      fill: #174EA6;\n",
              "    }\n",
              "\n",
              "    [theme=dark] .colab-df-convert {\n",
              "      background-color: #3B4455;\n",
              "      fill: #D2E3FC;\n",
              "    }\n",
              "\n",
              "    [theme=dark] .colab-df-convert:hover {\n",
              "      background-color: #434B5C;\n",
              "      box-shadow: 0px 1px 3px 1px rgba(0, 0, 0, 0.15);\n",
              "      filter: drop-shadow(0px 1px 2px rgba(0, 0, 0, 0.3));\n",
              "      fill: #FFFFFF;\n",
              "    }\n",
              "  </style>\n",
              "\n",
              "      <script>\n",
              "        const buttonEl =\n",
              "          document.querySelector('#df-395536ba-522b-4dbb-9f0f-22c9447ea28e button.colab-df-convert');\n",
              "        buttonEl.style.display =\n",
              "          google.colab.kernel.accessAllowed ? 'block' : 'none';\n",
              "\n",
              "        async function convertToInteractive(key) {\n",
              "          const element = document.querySelector('#df-395536ba-522b-4dbb-9f0f-22c9447ea28e');\n",
              "          const dataTable =\n",
              "            await google.colab.kernel.invokeFunction('convertToInteractive',\n",
              "                                                     [key], {});\n",
              "          if (!dataTable) return;\n",
              "\n",
              "          const docLinkHtml = 'Like what you see? Visit the ' +\n",
              "            '<a target=\"_blank\" href=https://colab.research.google.com/notebooks/data_table.ipynb>data table notebook</a>'\n",
              "            + ' to learn more about interactive tables.';\n",
              "          element.innerHTML = '';\n",
              "          dataTable['output_type'] = 'display_data';\n",
              "          await google.colab.output.renderOutput(dataTable, element);\n",
              "          const docLink = document.createElement('div');\n",
              "          docLink.innerHTML = docLinkHtml;\n",
              "          element.appendChild(docLink);\n",
              "        }\n",
              "      </script>\n",
              "    </div>\n",
              "  </div>\n",
              "  "
            ]
          },
          "metadata": {},
          "execution_count": 47
        }
      ]
    },
    {
      "cell_type": "code",
      "source": [
        "df_scores.sort_values(by='auc', ascending = False).head()"
      ],
      "metadata": {
        "colab": {
          "base_uri": "https://localhost:8080/",
          "height": 206
        },
        "id": "m6h12s62qrzu",
        "outputId": "e77120f0-ac6c-4f3d-ac9a-a782c5bc52fb"
      },
      "execution_count": 48,
      "outputs": [
        {
          "output_type": "execute_result",
          "data": {
            "text/plain": [
              "    max_depth  min_samples_leaf       auc\n",
              "40         10                15  0.790950\n",
              "58         20                15  0.786685\n",
              "49         15                15  0.786642\n",
              "59         20                20  0.785501\n",
              "22          6                15  0.785250"
            ],
            "text/html": [
              "\n",
              "  <div id=\"df-d5bf2a09-0ae8-4915-b9e0-5fb01230e67e\">\n",
              "    <div class=\"colab-df-container\">\n",
              "      <div>\n",
              "<style scoped>\n",
              "    .dataframe tbody tr th:only-of-type {\n",
              "        vertical-align: middle;\n",
              "    }\n",
              "\n",
              "    .dataframe tbody tr th {\n",
              "        vertical-align: top;\n",
              "    }\n",
              "\n",
              "    .dataframe thead th {\n",
              "        text-align: right;\n",
              "    }\n",
              "</style>\n",
              "<table border=\"1\" class=\"dataframe\">\n",
              "  <thead>\n",
              "    <tr style=\"text-align: right;\">\n",
              "      <th></th>\n",
              "      <th>max_depth</th>\n",
              "      <th>min_samples_leaf</th>\n",
              "      <th>auc</th>\n",
              "    </tr>\n",
              "  </thead>\n",
              "  <tbody>\n",
              "    <tr>\n",
              "      <th>40</th>\n",
              "      <td>10</td>\n",
              "      <td>15</td>\n",
              "      <td>0.790950</td>\n",
              "    </tr>\n",
              "    <tr>\n",
              "      <th>58</th>\n",
              "      <td>20</td>\n",
              "      <td>15</td>\n",
              "      <td>0.786685</td>\n",
              "    </tr>\n",
              "    <tr>\n",
              "      <th>49</th>\n",
              "      <td>15</td>\n",
              "      <td>15</td>\n",
              "      <td>0.786642</td>\n",
              "    </tr>\n",
              "    <tr>\n",
              "      <th>59</th>\n",
              "      <td>20</td>\n",
              "      <td>20</td>\n",
              "      <td>0.785501</td>\n",
              "    </tr>\n",
              "    <tr>\n",
              "      <th>22</th>\n",
              "      <td>6</td>\n",
              "      <td>15</td>\n",
              "      <td>0.785250</td>\n",
              "    </tr>\n",
              "  </tbody>\n",
              "</table>\n",
              "</div>\n",
              "      <button class=\"colab-df-convert\" onclick=\"convertToInteractive('df-d5bf2a09-0ae8-4915-b9e0-5fb01230e67e')\"\n",
              "              title=\"Convert this dataframe to an interactive table.\"\n",
              "              style=\"display:none;\">\n",
              "        \n",
              "  <svg xmlns=\"http://www.w3.org/2000/svg\" height=\"24px\"viewBox=\"0 0 24 24\"\n",
              "       width=\"24px\">\n",
              "    <path d=\"M0 0h24v24H0V0z\" fill=\"none\"/>\n",
              "    <path d=\"M18.56 5.44l.94 2.06.94-2.06 2.06-.94-2.06-.94-.94-2.06-.94 2.06-2.06.94zm-11 1L8.5 8.5l.94-2.06 2.06-.94-2.06-.94L8.5 2.5l-.94 2.06-2.06.94zm10 10l.94 2.06.94-2.06 2.06-.94-2.06-.94-.94-2.06-.94 2.06-2.06.94z\"/><path d=\"M17.41 7.96l-1.37-1.37c-.4-.4-.92-.59-1.43-.59-.52 0-1.04.2-1.43.59L10.3 9.45l-7.72 7.72c-.78.78-.78 2.05 0 2.83L4 21.41c.39.39.9.59 1.41.59.51 0 1.02-.2 1.41-.59l7.78-7.78 2.81-2.81c.8-.78.8-2.07 0-2.86zM5.41 20L4 18.59l7.72-7.72 1.47 1.35L5.41 20z\"/>\n",
              "  </svg>\n",
              "      </button>\n",
              "      \n",
              "  <style>\n",
              "    .colab-df-container {\n",
              "      display:flex;\n",
              "      flex-wrap:wrap;\n",
              "      gap: 12px;\n",
              "    }\n",
              "\n",
              "    .colab-df-convert {\n",
              "      background-color: #E8F0FE;\n",
              "      border: none;\n",
              "      border-radius: 50%;\n",
              "      cursor: pointer;\n",
              "      display: none;\n",
              "      fill: #1967D2;\n",
              "      height: 32px;\n",
              "      padding: 0 0 0 0;\n",
              "      width: 32px;\n",
              "    }\n",
              "\n",
              "    .colab-df-convert:hover {\n",
              "      background-color: #E2EBFA;\n",
              "      box-shadow: 0px 1px 2px rgba(60, 64, 67, 0.3), 0px 1px 3px 1px rgba(60, 64, 67, 0.15);\n",
              "      fill: #174EA6;\n",
              "    }\n",
              "\n",
              "    [theme=dark] .colab-df-convert {\n",
              "      background-color: #3B4455;\n",
              "      fill: #D2E3FC;\n",
              "    }\n",
              "\n",
              "    [theme=dark] .colab-df-convert:hover {\n",
              "      background-color: #434B5C;\n",
              "      box-shadow: 0px 1px 3px 1px rgba(0, 0, 0, 0.15);\n",
              "      filter: drop-shadow(0px 1px 2px rgba(0, 0, 0, 0.3));\n",
              "      fill: #FFFFFF;\n",
              "    }\n",
              "  </style>\n",
              "\n",
              "      <script>\n",
              "        const buttonEl =\n",
              "          document.querySelector('#df-d5bf2a09-0ae8-4915-b9e0-5fb01230e67e button.colab-df-convert');\n",
              "        buttonEl.style.display =\n",
              "          google.colab.kernel.accessAllowed ? 'block' : 'none';\n",
              "\n",
              "        async function convertToInteractive(key) {\n",
              "          const element = document.querySelector('#df-d5bf2a09-0ae8-4915-b9e0-5fb01230e67e');\n",
              "          const dataTable =\n",
              "            await google.colab.kernel.invokeFunction('convertToInteractive',\n",
              "                                                     [key], {});\n",
              "          if (!dataTable) return;\n",
              "\n",
              "          const docLinkHtml = 'Like what you see? Visit the ' +\n",
              "            '<a target=\"_blank\" href=https://colab.research.google.com/notebooks/data_table.ipynb>data table notebook</a>'\n",
              "            + ' to learn more about interactive tables.';\n",
              "          element.innerHTML = '';\n",
              "          dataTable['output_type'] = 'display_data';\n",
              "          await google.colab.output.renderOutput(dataTable, element);\n",
              "          const docLink = document.createElement('div');\n",
              "          docLink.innerHTML = docLinkHtml;\n",
              "          element.appendChild(docLink);\n",
              "        }\n",
              "      </script>\n",
              "    </div>\n",
              "  </div>\n",
              "  "
            ]
          },
          "metadata": {},
          "execution_count": 48
        }
      ]
    },
    {
      "cell_type": "code",
      "source": [
        "df_scores_pivot = df_scores.pivot(index = 'min_samples_leaf', columns = ['max_depth'], values = ['auc'])\n",
        "df_scores_pivot.round(3)"
      ],
      "metadata": {
        "colab": {
          "base_uri": "https://localhost:8080/",
          "height": 394
        },
        "id": "gHcIy86brMUx",
        "outputId": "1eced113-c802-459e-d32b-2cbb91817713"
      },
      "execution_count": 49,
      "outputs": [
        {
          "output_type": "execute_result",
          "data": {
            "text/plain": [
              "                    auc                                          \n",
              "max_depth            4      5      6      7      10     15     20\n",
              "min_samples_leaf                                                 \n",
              "1                 0.761  0.766  0.759  0.735  0.712  0.666  0.663\n",
              "2                 0.761  0.767  0.751  0.755  0.712  0.673  0.683\n",
              "5                 0.761  0.768  0.760  0.757  0.731  0.710  0.721\n",
              "10                0.761  0.762  0.778  0.765  0.764  0.761  0.764\n",
              "15                0.764  0.772  0.785  0.780  0.791  0.787  0.787\n",
              "20                0.761  0.774  0.773  0.779  0.785  0.780  0.786\n",
              "100               0.756  0.763  0.776  0.780  0.780  0.780  0.779\n",
              "200               0.747  0.759  0.768  0.768  0.768  0.768  0.768\n",
              "500               0.680  0.680  0.680  0.680  0.680  0.680  0.680"
            ],
            "text/html": [
              "\n",
              "  <div id=\"df-6ece8d3b-3f10-4821-ac97-8db8fcdf76aa\">\n",
              "    <div class=\"colab-df-container\">\n",
              "      <div>\n",
              "<style scoped>\n",
              "    .dataframe tbody tr th:only-of-type {\n",
              "        vertical-align: middle;\n",
              "    }\n",
              "\n",
              "    .dataframe tbody tr th {\n",
              "        vertical-align: top;\n",
              "    }\n",
              "\n",
              "    .dataframe thead tr th {\n",
              "        text-align: left;\n",
              "    }\n",
              "\n",
              "    .dataframe thead tr:last-of-type th {\n",
              "        text-align: right;\n",
              "    }\n",
              "</style>\n",
              "<table border=\"1\" class=\"dataframe\">\n",
              "  <thead>\n",
              "    <tr>\n",
              "      <th></th>\n",
              "      <th colspan=\"7\" halign=\"left\">auc</th>\n",
              "    </tr>\n",
              "    <tr>\n",
              "      <th>max_depth</th>\n",
              "      <th>4</th>\n",
              "      <th>5</th>\n",
              "      <th>6</th>\n",
              "      <th>7</th>\n",
              "      <th>10</th>\n",
              "      <th>15</th>\n",
              "      <th>20</th>\n",
              "    </tr>\n",
              "    <tr>\n",
              "      <th>min_samples_leaf</th>\n",
              "      <th></th>\n",
              "      <th></th>\n",
              "      <th></th>\n",
              "      <th></th>\n",
              "      <th></th>\n",
              "      <th></th>\n",
              "      <th></th>\n",
              "    </tr>\n",
              "  </thead>\n",
              "  <tbody>\n",
              "    <tr>\n",
              "      <th>1</th>\n",
              "      <td>0.761</td>\n",
              "      <td>0.766</td>\n",
              "      <td>0.759</td>\n",
              "      <td>0.735</td>\n",
              "      <td>0.712</td>\n",
              "      <td>0.666</td>\n",
              "      <td>0.663</td>\n",
              "    </tr>\n",
              "    <tr>\n",
              "      <th>2</th>\n",
              "      <td>0.761</td>\n",
              "      <td>0.767</td>\n",
              "      <td>0.751</td>\n",
              "      <td>0.755</td>\n",
              "      <td>0.712</td>\n",
              "      <td>0.673</td>\n",
              "      <td>0.683</td>\n",
              "    </tr>\n",
              "    <tr>\n",
              "      <th>5</th>\n",
              "      <td>0.761</td>\n",
              "      <td>0.768</td>\n",
              "      <td>0.760</td>\n",
              "      <td>0.757</td>\n",
              "      <td>0.731</td>\n",
              "      <td>0.710</td>\n",
              "      <td>0.721</td>\n",
              "    </tr>\n",
              "    <tr>\n",
              "      <th>10</th>\n",
              "      <td>0.761</td>\n",
              "      <td>0.762</td>\n",
              "      <td>0.778</td>\n",
              "      <td>0.765</td>\n",
              "      <td>0.764</td>\n",
              "      <td>0.761</td>\n",
              "      <td>0.764</td>\n",
              "    </tr>\n",
              "    <tr>\n",
              "      <th>15</th>\n",
              "      <td>0.764</td>\n",
              "      <td>0.772</td>\n",
              "      <td>0.785</td>\n",
              "      <td>0.780</td>\n",
              "      <td>0.791</td>\n",
              "      <td>0.787</td>\n",
              "      <td>0.787</td>\n",
              "    </tr>\n",
              "    <tr>\n",
              "      <th>20</th>\n",
              "      <td>0.761</td>\n",
              "      <td>0.774</td>\n",
              "      <td>0.773</td>\n",
              "      <td>0.779</td>\n",
              "      <td>0.785</td>\n",
              "      <td>0.780</td>\n",
              "      <td>0.786</td>\n",
              "    </tr>\n",
              "    <tr>\n",
              "      <th>100</th>\n",
              "      <td>0.756</td>\n",
              "      <td>0.763</td>\n",
              "      <td>0.776</td>\n",
              "      <td>0.780</td>\n",
              "      <td>0.780</td>\n",
              "      <td>0.780</td>\n",
              "      <td>0.779</td>\n",
              "    </tr>\n",
              "    <tr>\n",
              "      <th>200</th>\n",
              "      <td>0.747</td>\n",
              "      <td>0.759</td>\n",
              "      <td>0.768</td>\n",
              "      <td>0.768</td>\n",
              "      <td>0.768</td>\n",
              "      <td>0.768</td>\n",
              "      <td>0.768</td>\n",
              "    </tr>\n",
              "    <tr>\n",
              "      <th>500</th>\n",
              "      <td>0.680</td>\n",
              "      <td>0.680</td>\n",
              "      <td>0.680</td>\n",
              "      <td>0.680</td>\n",
              "      <td>0.680</td>\n",
              "      <td>0.680</td>\n",
              "      <td>0.680</td>\n",
              "    </tr>\n",
              "  </tbody>\n",
              "</table>\n",
              "</div>\n",
              "      <button class=\"colab-df-convert\" onclick=\"convertToInteractive('df-6ece8d3b-3f10-4821-ac97-8db8fcdf76aa')\"\n",
              "              title=\"Convert this dataframe to an interactive table.\"\n",
              "              style=\"display:none;\">\n",
              "        \n",
              "  <svg xmlns=\"http://www.w3.org/2000/svg\" height=\"24px\"viewBox=\"0 0 24 24\"\n",
              "       width=\"24px\">\n",
              "    <path d=\"M0 0h24v24H0V0z\" fill=\"none\"/>\n",
              "    <path d=\"M18.56 5.44l.94 2.06.94-2.06 2.06-.94-2.06-.94-.94-2.06-.94 2.06-2.06.94zm-11 1L8.5 8.5l.94-2.06 2.06-.94-2.06-.94L8.5 2.5l-.94 2.06-2.06.94zm10 10l.94 2.06.94-2.06 2.06-.94-2.06-.94-.94-2.06-.94 2.06-2.06.94z\"/><path d=\"M17.41 7.96l-1.37-1.37c-.4-.4-.92-.59-1.43-.59-.52 0-1.04.2-1.43.59L10.3 9.45l-7.72 7.72c-.78.78-.78 2.05 0 2.83L4 21.41c.39.39.9.59 1.41.59.51 0 1.02-.2 1.41-.59l7.78-7.78 2.81-2.81c.8-.78.8-2.07 0-2.86zM5.41 20L4 18.59l7.72-7.72 1.47 1.35L5.41 20z\"/>\n",
              "  </svg>\n",
              "      </button>\n",
              "      \n",
              "  <style>\n",
              "    .colab-df-container {\n",
              "      display:flex;\n",
              "      flex-wrap:wrap;\n",
              "      gap: 12px;\n",
              "    }\n",
              "\n",
              "    .colab-df-convert {\n",
              "      background-color: #E8F0FE;\n",
              "      border: none;\n",
              "      border-radius: 50%;\n",
              "      cursor: pointer;\n",
              "      display: none;\n",
              "      fill: #1967D2;\n",
              "      height: 32px;\n",
              "      padding: 0 0 0 0;\n",
              "      width: 32px;\n",
              "    }\n",
              "\n",
              "    .colab-df-convert:hover {\n",
              "      background-color: #E2EBFA;\n",
              "      box-shadow: 0px 1px 2px rgba(60, 64, 67, 0.3), 0px 1px 3px 1px rgba(60, 64, 67, 0.15);\n",
              "      fill: #174EA6;\n",
              "    }\n",
              "\n",
              "    [theme=dark] .colab-df-convert {\n",
              "      background-color: #3B4455;\n",
              "      fill: #D2E3FC;\n",
              "    }\n",
              "\n",
              "    [theme=dark] .colab-df-convert:hover {\n",
              "      background-color: #434B5C;\n",
              "      box-shadow: 0px 1px 3px 1px rgba(0, 0, 0, 0.15);\n",
              "      filter: drop-shadow(0px 1px 2px rgba(0, 0, 0, 0.3));\n",
              "      fill: #FFFFFF;\n",
              "    }\n",
              "  </style>\n",
              "\n",
              "      <script>\n",
              "        const buttonEl =\n",
              "          document.querySelector('#df-6ece8d3b-3f10-4821-ac97-8db8fcdf76aa button.colab-df-convert');\n",
              "        buttonEl.style.display =\n",
              "          google.colab.kernel.accessAllowed ? 'block' : 'none';\n",
              "\n",
              "        async function convertToInteractive(key) {\n",
              "          const element = document.querySelector('#df-6ece8d3b-3f10-4821-ac97-8db8fcdf76aa');\n",
              "          const dataTable =\n",
              "            await google.colab.kernel.invokeFunction('convertToInteractive',\n",
              "                                                     [key], {});\n",
              "          if (!dataTable) return;\n",
              "\n",
              "          const docLinkHtml = 'Like what you see? Visit the ' +\n",
              "            '<a target=\"_blank\" href=https://colab.research.google.com/notebooks/data_table.ipynb>data table notebook</a>'\n",
              "            + ' to learn more about interactive tables.';\n",
              "          element.innerHTML = '';\n",
              "          dataTable['output_type'] = 'display_data';\n",
              "          await google.colab.output.renderOutput(dataTable, element);\n",
              "          const docLink = document.createElement('div');\n",
              "          docLink.innerHTML = docLinkHtml;\n",
              "          element.appendChild(docLink);\n",
              "        }\n",
              "      </script>\n",
              "    </div>\n",
              "  </div>\n",
              "  "
            ]
          },
          "metadata": {},
          "execution_count": 49
        }
      ]
    },
    {
      "cell_type": "code",
      "source": [
        "sns.heatmap(df_scores_pivot, annot = True, fmt = '.3f')"
      ],
      "metadata": {
        "colab": {
          "base_uri": "https://localhost:8080/",
          "height": 297
        },
        "id": "7ImfME37rjex",
        "outputId": "08f30861-168d-4ebb-80e8-3d45fe70cbb5"
      },
      "execution_count": 50,
      "outputs": [
        {
          "output_type": "execute_result",
          "data": {
            "text/plain": [
              "<matplotlib.axes._subplots.AxesSubplot at 0x7f2fb13a1410>"
            ]
          },
          "metadata": {},
          "execution_count": 50
        },
        {
          "output_type": "display_data",
          "data": {
            "text/plain": [
              "<Figure size 432x288 with 2 Axes>"
            ],
            "image/png": "[encoded data removed]"
          },
          "metadata": {
            "needs_background": "light"
          }
        }
      ]
    },
    {
      "cell_type": "code",
      "source": [
        "last_tree = DecisionTreeClassifier(max_depth = 6, min_samples_leaf = 15)\n",
        "last_tree.fit(X_train, y_train) "
      ],
      "metadata": {
        "colab": {
          "base_uri": "https://localhost:8080/"
        },
        "id": "Paki4FnpsG2P",
        "outputId": "cc8651eb-8948-4463-ba63-50a5809920e4"
      },
      "execution_count": 51,
      "outputs": [
        {
          "output_type": "execute_result",
          "data": {
            "text/plain": [
              "DecisionTreeClassifier(max_depth=6, min_samples_leaf=15)"
            ]
          },
          "metadata": {},
          "execution_count": 51
        }
      ]
    },
    {
      "cell_type": "markdown",
      "source": [
        "# Ensembles and Random Forest"
      ],
      "metadata": {
        "id": "EniLasmAtUpC"
      }
    },
    {
      "cell_type": "code",
      "source": [
        "from sklearn.ensemble import RandomForestClassifier"
      ],
      "metadata": {
        "id": "FW4cxhYvtRhX"
      },
      "execution_count": 52,
      "outputs": []
    },
    {
      "cell_type": "code",
      "source": [
        "rand_for = RandomForestClassifier(n_estimators = 10)\n",
        "rand_for.fit(X_train, y_train)"
      ],
      "metadata": {
        "colab": {
          "base_uri": "https://localhost:8080/"
        },
        "id": "sLILZy5Gtv7o",
        "outputId": "160dceee-20b3-4ecd-e69d-53feb008cfec"
      },
      "execution_count": 63,
      "outputs": [
        {
          "output_type": "execute_result",
          "data": {
            "text/plain": [
              "RandomForestClassifier(n_estimators=10)"
            ]
          },
          "metadata": {},
          "execution_count": 63
        }
      ]
    },
    {
      "cell_type": "code",
      "source": [
        "y_pred = rand_for.predict_proba(X_val)[:,1]\n",
        "roc_auc_score(y_val, y_pred)"
      ],
      "metadata": {
        "id": "VMiGmTLbt4t0"
      },
      "execution_count": 56,
      "outputs": []
    },
    {
      "cell_type": "code",
      "source": [
        "#rand_for.predict_proba(X_val[[0]])"
      ],
      "metadata": {
        "colab": {
          "base_uri": "https://localhost:8080/"
        },
        "id": "HXA81mXSuDjg",
        "outputId": "8ffaf1f2-c18c-4f01-9687-0bb6e4e536ba"
      },
      "execution_count": 64,
      "outputs": [
        {
          "output_type": "execute_result",
          "data": {
            "text/plain": [
              "array([[1., 0.]])"
            ]
          },
          "metadata": {},
          "execution_count": 64
        }
      ]
    },
    {
      "cell_type": "code",
      "source": [
        "scores = []\n",
        "\n",
        "for n in range(10, 201, 10):\n",
        "\n",
        "  rand_for = RandomForestClassifier(n_estimators = n, random_state = 1)\n",
        "  rand_for.fit(X_train, y_train)\n",
        "\n",
        "  y_pred = rand_for.predict_proba(X_val)[:,1]\n",
        "  auc = roc_auc_score(y_val, y_pred)\n",
        "  scores.append((n , auc))\n"
      ],
      "metadata": {
        "id": "W5qt_Mn5uI0K"
      },
      "execution_count": 67,
      "outputs": []
    },
    {
      "cell_type": "code",
      "source": [
        "df_scores = pd.DataFrame(scores, columns = ['n_estimators', 'auc'])"
      ],
      "metadata": {
        "id": "0mBZ99JXu4zL"
      },
      "execution_count": 70,
      "outputs": []
    },
    {
      "cell_type": "code",
      "source": [
        "plt.plot(df_scores.n_estimators, df_scores.auc)"
      ],
      "metadata": {
        "colab": {
          "base_uri": "https://localhost:8080/",
          "height": 282
        },
        "id": "8iJf4TwJu_hR",
        "outputId": "38d2fcbf-ba23-4ab1-a90f-1e6e23599511"
      },
      "execution_count": 72,
      "outputs": [
        {
          "output_type": "execute_result",
          "data": {
            "text/plain": [
              "[<matplotlib.lines.Line2D at 0x7f2fb0b3c710>]"
            ]
          },
          "metadata": {},
          "execution_count": 72
        },
        {
          "output_type": "display_data",
          "data": {
            "text/plain": [
              "<Figure size 432x288 with 1 Axes>"
            ],
            "image/png": "[encoded data removed]"
          },
          "metadata": {
            "needs_background": "light"
          }
        }
      ]
    },
    {
      "cell_type": "code",
      "source": [
        "scores = []\n",
        "\n",
        "for depth in [5, 10, 15]:\n",
        "  for n in range(10, 201, 10):\n",
        "\n",
        "    rand_for = RandomForestClassifier(n_estimators = n, max_depth= depth, random_state = 1)\n",
        "    rand_for.fit(X_train, y_train)\n",
        "\n",
        "    y_pred = rand_for.predict_proba(X_val)[:,1]\n",
        "    auc = roc_auc_score(y_val, y_pred)\n",
        "    scores.append((depth, n , auc))"
      ],
      "metadata": {
        "id": "EyqcScxKvWSN"
      },
      "execution_count": 73,
      "outputs": []
    },
    {
      "cell_type": "code",
      "source": [
        "columns = ['max_depth', 'n_estimators', 'auc']\n",
        "df_scores = pd.DataFrame(scores, columns = columns)\n",
        "df_scores.head()"
      ],
      "metadata": {
        "colab": {
          "base_uri": "https://localhost:8080/",
          "height": 206
        },
        "id": "qQ7TrSukwR86",
        "outputId": "d19cfa66-1884-4d6f-b0b7-fcfc346887af"
      },
      "execution_count": 74,
      "outputs": [
        {
          "output_type": "execute_result",
          "data": {
            "text/plain": [
              "   max_depth  n_estimators       auc\n",
              "0          5            10  0.787699\n",
              "1          5            20  0.797731\n",
              "2          5            30  0.800305\n",
              "3          5            40  0.799708\n",
              "4          5            50  0.799878"
            ],
            "text/html": [
              "\n",
              "  <div id=\"df-620c3b7a-f33f-4b73-8399-e011f419fa82\">\n",
              "    <div class=\"colab-df-container\">\n",
              "      <div>\n",
              "<style scoped>\n",
              "    .dataframe tbody tr th:only-of-type {\n",
              "        vertical-align: middle;\n",
              "    }\n",
              "\n",
              "    .dataframe tbody tr th {\n",
              "        vertical-align: top;\n",
              "    }\n",
              "\n",
              "    .dataframe thead th {\n",
              "        text-align: right;\n",
              "    }\n",
              "</style>\n",
              "<table border=\"1\" class=\"dataframe\">\n",
              "  <thead>\n",
              "    <tr style=\"text-align: right;\">\n",
              "      <th></th>\n",
              "      <th>max_depth</th>\n",
              "      <th>n_estimators</th>\n",
              "      <th>auc</th>\n",
              "    </tr>\n",
              "  </thead>\n",
              "  <tbody>\n",
              "    <tr>\n",
              "      <th>0</th>\n",
              "      <td>5</td>\n",
              "      <td>10</td>\n",
              "      <td>0.787699</td>\n",
              "    </tr>\n",
              "    <tr>\n",
              "      <th>1</th>\n",
              "      <td>5</td>\n",
              "      <td>20</td>\n",
              "      <td>0.797731</td>\n",
              "    </tr>\n",
              "    <tr>\n",
              "      <th>2</th>\n",
              "      <td>5</td>\n",
              "      <td>30</td>\n",
              "      <td>0.800305</td>\n",
              "    </tr>\n",
              "    <tr>\n",
              "      <th>3</th>\n",
              "      <td>5</td>\n",
              "      <td>40</td>\n",
              "      <td>0.799708</td>\n",
              "    </tr>\n",
              "    <tr>\n",
              "      <th>4</th>\n",
              "      <td>5</td>\n",
              "      <td>50</td>\n",
              "      <td>0.799878</td>\n",
              "    </tr>\n",
              "  </tbody>\n",
              "</table>\n",
              "</div>\n",
              "      <button class=\"colab-df-convert\" onclick=\"convertToInteractive('df-620c3b7a-f33f-4b73-8399-e011f419fa82')\"\n",
              "              title=\"Convert this dataframe to an interactive table.\"\n",
              "              style=\"display:none;\">\n",
              "        \n",
              "  <svg xmlns=\"http://www.w3.org/2000/svg\" height=\"24px\"viewBox=\"0 0 24 24\"\n",
              "       width=\"24px\">\n",
              "    <path d=\"M0 0h24v24H0V0z\" fill=\"none\"/>\n",
              "    <path d=\"M18.56 5.44l.94 2.06.94-2.06 2.06-.94-2.06-.94-.94-2.06-.94 2.06-2.06.94zm-11 1L8.5 8.5l.94-2.06 2.06-.94-2.06-.94L8.5 2.5l-.94 2.06-2.06.94zm10 10l.94 2.06.94-2.06 2.06-.94-2.06-.94-.94-2.06-.94 2.06-2.06.94z\"/><path d=\"M17.41 7.96l-1.37-1.37c-.4-.4-.92-.59-1.43-.59-.52 0-1.04.2-1.43.59L10.3 9.45l-7.72 7.72c-.78.78-.78 2.05 0 2.83L4 21.41c.39.39.9.59 1.41.59.51 0 1.02-.2 1.41-.59l7.78-7.78 2.81-2.81c.8-.78.8-2.07 0-2.86zM5.41 20L4 18.59l7.72-7.72 1.47 1.35L5.41 20z\"/>\n",
              "  </svg>\n",
              "      </button>\n",
              "      \n",
              "  <style>\n",
              "    .colab-df-container {\n",
              "      display:flex;\n",
              "      flex-wrap:wrap;\n",
              "      gap: 12px;\n",
              "    }\n",
              "\n",
              "    .colab-df-convert {\n",
              "      background-color: #E8F0FE;\n",
              "      border: none;\n",
              "      border-radius: 50%;\n",
              "      cursor: pointer;\n",
              "      display: none;\n",
              "      fill: #1967D2;\n",
              "      height: 32px;\n",
              "      padding: 0 0 0 0;\n",
              "      width: 32px;\n",
              "    }\n",
              "\n",
              "    .colab-df-convert:hover {\n",
              "      background-color: #E2EBFA;\n",
              "      box-shadow: 0px 1px 2px rgba(60, 64, 67, 0.3), 0px 1px 3px 1px rgba(60, 64, 67, 0.15);\n",
              "      fill: #174EA6;\n",
              "    }\n",
              "\n",
              "    [theme=dark] .colab-df-convert {\n",
              "      background-color: #3B4455;\n",
              "      fill: #D2E3FC;\n",
              "    }\n",
              "\n",
              "    [theme=dark] .colab-df-convert:hover {\n",
              "      background-color: #434B5C;\n",
              "      box-shadow: 0px 1px 3px 1px rgba(0, 0, 0, 0.15);\n",
              "      filter: drop-shadow(0px 1px 2px rgba(0, 0, 0, 0.3));\n",
              "      fill: #FFFFFF;\n",
              "    }\n",
              "  </style>\n",
              "\n",
              "      <script>\n",
              "        const buttonEl =\n",
              "          document.querySelector('#df-620c3b7a-f33f-4b73-8399-e011f419fa82 button.colab-df-convert');\n",
              "        buttonEl.style.display =\n",
              "          google.colab.kernel.accessAllowed ? 'block' : 'none';\n",
              "\n",
              "        async function convertToInteractive(key) {\n",
              "          const element = document.querySelector('#df-620c3b7a-f33f-4b73-8399-e011f419fa82');\n",
              "          const dataTable =\n",
              "            await google.colab.kernel.invokeFunction('convertToInteractive',\n",
              "                                                     [key], {});\n",
              "          if (!dataTable) return;\n",
              "\n",
              "          const docLinkHtml = 'Like what you see? Visit the ' +\n",
              "            '<a target=\"_blank\" href=https://colab.research.google.com/notebooks/data_table.ipynb>data table notebook</a>'\n",
              "            + ' to learn more about interactive tables.';\n",
              "          element.innerHTML = '';\n",
              "          dataTable['output_type'] = 'display_data';\n",
              "          await google.colab.output.renderOutput(dataTable, element);\n",
              "          const docLink = document.createElement('div');\n",
              "          docLink.innerHTML = docLinkHtml;\n",
              "          element.appendChild(docLink);\n",
              "        }\n",
              "      </script>\n",
              "    </div>\n",
              "  </div>\n",
              "  "
            ]
          },
          "metadata": {},
          "execution_count": 74
        }
      ]
    },
    {
      "cell_type": "code",
      "source": [
        "for depth in [5 , 10, 15]:\n",
        "  df_subset = df_scores[df_scores.max_depth == depth]\n",
        "  plt.plot(df_subset.n_estimators, df_subset.auc, label = 'max_depth = %d' %depth)\n",
        "\n",
        "  plt.legend()"
      ],
      "metadata": {
        "colab": {
          "base_uri": "https://localhost:8080/",
          "height": 265
        },
        "id": "XAcVMsRxweAi",
        "outputId": "56c03475-7b41-4b5e-94f7-8ec5acb13206"
      },
      "execution_count": 76,
      "outputs": [
        {
          "output_type": "display_data",
          "data": {
            "text/plain": [
              "<Figure size 432x288 with 1 Axes>"
            ],
            "image/png": "[encoded data removed]"
          },
          "metadata": {
            "needs_background": "light"
          }
        }
      ]
    },
    {
      "cell_type": "code",
      "source": [
        "max_depth = 10"
      ],
      "metadata": {
        "id": "KfPbFhPQw7Dx"
      },
      "execution_count": 77,
      "outputs": []
    },
    {
      "cell_type": "code",
      "source": [
        "scores = []\n",
        "\n",
        "for s in [1, 3, 5, 10, 50]:\n",
        "    for n in range(10, 201, 10):\n",
        "        rand_for = RandomForestClassifier(n_estimators=n,\n",
        "                                    max_depth=max_depth,\n",
        "                                    min_samples_leaf=s,\n",
        "                                    random_state=1)\n",
        "        rand_for.fit(X_train, y_train)\n",
        "\n",
        "        y_pred = rand_for.predict_proba(X_val)[:, 1]\n",
        "        auc = roc_auc_score(y_val, y_pred)\n",
        "\n",
        "        scores.append((s, n, auc))"
      ],
      "metadata": {
        "id": "Ljq0RIHBxln7"
      },
      "execution_count": 79,
      "outputs": []
    },
    {
      "cell_type": "code",
      "source": [
        "columns = ['min_samples_leaf', 'n_estimators', 'auc']\n",
        "df_scores = pd.DataFrame(scores, columns=columns)"
      ],
      "metadata": {
        "id": "pcNPMV7axo-d"
      },
      "execution_count": 80,
      "outputs": []
    },
    {
      "cell_type": "code",
      "source": [
        "colors = ['black', 'blue', 'orange', 'red', 'grey']\n",
        "values = [1, 3, 5, 10, 50]\n",
        "\n",
        "for s, col in zip(values, colors):\n",
        "    df_subset = df_scores[df_scores.min_samples_leaf == s]\n",
        "    \n",
        "    plt.plot(df_subset.n_estimators, df_subset.auc,\n",
        "             color=col,\n",
        "             label='min_samples_leaf=%d' % s)\n",
        "\n",
        "plt.legend()"
      ],
      "metadata": {
        "colab": {
          "base_uri": "https://localhost:8080/",
          "height": 282
        },
        "id": "aiIU4KEzxqFD",
        "outputId": "1eb8f4ac-949f-4114-80b1-32e747fdffa6"
      },
      "execution_count": 81,
      "outputs": [
        {
          "output_type": "execute_result",
          "data": {
            "text/plain": [
              "<matplotlib.legend.Legend at 0x7f2fb0a30910>"
            ]
          },
          "metadata": {},
          "execution_count": 81
        },
        {
          "output_type": "display_data",
          "data": {
            "text/plain": [
              "<Figure size 432x288 with 1 Axes>"
            ],
            "image/png": "[encoded data removed]"
          },
          "metadata": {
            "needs_background": "light"
          }
        }
      ]
    },
    {
      "cell_type": "code",
      "source": [
        "min_samples_leaf = 3"
      ],
      "metadata": {
        "id": "MWCcDtPAxyEE"
      },
      "execution_count": 82,
      "outputs": []
    },
    {
      "cell_type": "code",
      "source": [
        "last_forest = RandomForestClassifier(n_estimators=200,\n",
        "                            max_depth=max_depth,\n",
        "                            min_samples_leaf=min_samples_leaf,\n",
        "                            random_state=1)\n",
        "last_forest.fit(X_train, y_train)"
      ],
      "metadata": {
        "colab": {
          "base_uri": "https://localhost:8080/"
        },
        "id": "zntjgwxzx0vN",
        "outputId": "5479d0b2-1d23-4a5c-acbb-5cc3a5c334ee"
      },
      "execution_count": 83,
      "outputs": [
        {
          "output_type": "execute_result",
          "data": {
            "text/plain": [
              "RandomForestClassifier(max_depth=10, min_samples_leaf=3, n_estimators=200,\n",
              "                       random_state=1)"
            ]
          },
          "metadata": {},
          "execution_count": 83
        }
      ]
    },
    {
      "cell_type": "markdown",
      "source": [
        "Other useful parametes:\n",
        "\n",
        "- max_features\n",
        "- bootstrap\n",
        "\n",
        "[RandomForestClassifier](https://scikit-learn.org/stable/modules/generated/sklearn.ensemble.RandomForestClassifier.html)"
      ],
      "metadata": {
        "id": "Vw2xGH9TyJXo"
      }
    },
    {
      "cell_type": "markdown",
      "source": [
        "# Gradient Boosting and XGBoost"
      ],
      "metadata": {
        "id": "VbZL5We-yq7n"
      }
    },
    {
      "cell_type": "code",
      "source": [
        "!pip install xgboost"
      ],
      "metadata": {
        "colab": {
          "base_uri": "https://localhost:8080/"
        },
        "id": "CXgP5kTAyI7A",
        "outputId": "7a9b9d71-0056-4da7-86fb-6e1acd7f77be"
      },
      "execution_count": 84,
      "outputs": [
        {
          "output_type": "stream",
          "name": "stdout",
          "text": [
            "Looking in indexes: https://pypi.org/simple, https://us-python.pkg.dev/colab-wheels/public/simple/\n",
            "Requirement already satisfied: xgboost in /usr/local/lib/python3.7/dist-packages (0.90)\n",
            "Requirement already satisfied: scipy in /usr/local/lib/python3.7/dist-packages (from xgboost) (1.4.1)\n",
            "Requirement already satisfied: numpy in /usr/local/lib/python3.7/dist-packages (from xgboost) (1.21.6)\n"
          ]
        }
      ]
    },
    {
      "cell_type": "code",
      "source": [
        "import xgboost as xgb"
      ],
      "metadata": {
        "id": "T-d2JKu8y2oe"
      },
      "execution_count": 85,
      "outputs": []
    },
    {
      "cell_type": "code",
      "source": [
        "features = dict_vec.get_feature_names_out()\n",
        "dtrain = xgb.DMatrix(X_train, label = y_train, feature_names = features)\n",
        "dval = xgb.DMatrix(X_val, label = y_val, feature_names = features)"
      ],
      "metadata": {
        "id": "lrAn7D7Gy5Sv"
      },
      "execution_count": 87,
      "outputs": []
    },
    {
      "cell_type": "code",
      "source": [
        "xgb_params = {\n",
        "    'eta': 0.3,\n",
        "    'max_depth': 6,\n",
        "    'min_child_weight': 1,\n",
        "\n",
        "    'objective': 'binary:logistic',\n",
        "    'nthread': 8,\n",
        "\n",
        "    'seed':1,\n",
        "    'verbosity': 1\n",
        "}\n",
        "\n",
        "model = xgb.train(xgb_params, dtrain, num_boost_round = 200)"
      ],
      "metadata": {
        "id": "pEsZvGA-zVSt"
      },
      "execution_count": 91,
      "outputs": []
    },
    {
      "cell_type": "code",
      "source": [
        "y_pred = model.predict(dval)"
      ],
      "metadata": {
        "id": "VUZD0SoFz5F3"
      },
      "execution_count": 93,
      "outputs": []
    },
    {
      "cell_type": "code",
      "source": [
        "roc_auc_score(y_val, y_pred)"
      ],
      "metadata": {
        "colab": {
          "base_uri": "https://localhost:8080/"
        },
        "id": "IwCx3fyBz9cW",
        "outputId": "49e4a8a0-5bc5-4b7b-b2c1-a38540333597"
      },
      "execution_count": 94,
      "outputs": [
        {
          "output_type": "execute_result",
          "data": {
            "text/plain": [
              "0.8003166549611296"
            ]
          },
          "metadata": {},
          "execution_count": 94
        }
      ]
    },
    {
      "cell_type": "code",
      "source": [
        "watchlist = [(dtrain, 'train'), (dval, 'val')]"
      ],
      "metadata": {
        "id": "-P5GOClt0J6T"
      },
      "execution_count": 99,
      "outputs": []
    },
    {
      "cell_type": "code",
      "source": [
        "%%capture output\n",
        "xgb_params = {\n",
        "    'eta': 0.3,\n",
        "    'max_depth': 6,\n",
        "    'min_child_weight': 1,\n",
        "\n",
        "    'objective': 'binary:logistic',\n",
        "    'eval_metric':'auc',\n",
        "    'nthread': 8,\n",
        "\n",
        "    'seed':1,\n",
        "    'verbosity': 1\n",
        "}\n",
        "\n",
        "model = xgb.train(xgb_params, dtrain, num_boost_round = 200, verbose_eval = 5, evals=watchlist)"
      ],
      "metadata": {
        "id": "Pq484Wbl0mUw"
      },
      "execution_count": 102,
      "outputs": []
    },
    {
      "cell_type": "code",
      "source": [
        "s = output.stdout"
      ],
      "metadata": {
        "id": "DLSKrabJ0u3M"
      },
      "execution_count": 103,
      "outputs": []
    },
    {
      "cell_type": "code",
      "source": [
        "print(s)"
      ],
      "metadata": {
        "colab": {
          "base_uri": "https://localhost:8080/"
        },
        "id": "lPbmU8GU1jlP",
        "outputId": "c75b786b-011a-4a3c-9dd9-72a77bd3f023"
      },
      "execution_count": 104,
      "outputs": [
        {
          "output_type": "stream",
          "name": "stdout",
          "text": [
            "[0]\ttrain-auc:0.862996\tval-auc:0.768179\n",
            "[5]\ttrain-auc:0.928628\tval-auc:0.806056\n",
            "[10]\ttrain-auc:0.950021\tval-auc:0.815577\n",
            "[15]\ttrain-auc:0.965577\tval-auc:0.816803\n",
            "[20]\ttrain-auc:0.973165\tval-auc:0.817748\n",
            "[25]\ttrain-auc:0.981738\tval-auc:0.818783\n",
            "[30]\ttrain-auc:0.987718\tval-auc:0.817875\n",
            "[35]\ttrain-auc:0.9918\tval-auc:0.815096\n",
            "[40]\ttrain-auc:0.994562\tval-auc:0.813873\n",
            "[45]\ttrain-auc:0.995963\tval-auc:0.814624\n",
            "[50]\ttrain-auc:0.996881\tval-auc:0.811282\n",
            "[55]\ttrain-auc:0.99787\tval-auc:0.808739\n",
            "[60]\ttrain-auc:0.998887\tval-auc:0.808006\n",
            "[65]\ttrain-auc:0.999187\tval-auc:0.807509\n",
            "[70]\ttrain-auc:0.999439\tval-auc:0.807316\n",
            "[75]\ttrain-auc:0.999636\tval-auc:0.806922\n",
            "[80]\ttrain-auc:0.999847\tval-auc:0.806771\n",
            "[85]\ttrain-auc:0.999857\tval-auc:0.80671\n",
            "[90]\ttrain-auc:0.999915\tval-auc:0.806371\n",
            "[95]\ttrain-auc:0.999958\tval-auc:0.805802\n",
            "[100]\ttrain-auc:0.999985\tval-auc:0.805076\n",
            "[105]\ttrain-auc:0.999992\tval-auc:0.806032\n",
            "[110]\ttrain-auc:0.999999\tval-auc:0.805269\n",
            "[115]\ttrain-auc:1\tval-auc:0.803822\n",
            "[120]\ttrain-auc:1\tval-auc:0.804313\n",
            "[125]\ttrain-auc:1\tval-auc:0.803913\n",
            "[130]\ttrain-auc:1\tval-auc:0.803949\n",
            "[135]\ttrain-auc:1\tval-auc:0.80404\n",
            "[140]\ttrain-auc:1\tval-auc:0.802781\n",
            "[145]\ttrain-auc:1\tval-auc:0.802363\n",
            "[150]\ttrain-auc:1\tval-auc:0.801842\n",
            "[155]\ttrain-auc:1\tval-auc:0.801618\n",
            "[160]\ttrain-auc:1\tval-auc:0.801431\n",
            "[165]\ttrain-auc:1\tval-auc:0.801201\n",
            "[170]\ttrain-auc:1\tval-auc:0.801231\n",
            "[175]\ttrain-auc:1\tval-auc:0.800456\n",
            "[180]\ttrain-auc:1\tval-auc:0.801279\n",
            "[185]\ttrain-auc:1\tval-auc:0.800892\n",
            "[190]\ttrain-auc:1\tval-auc:0.801388\n",
            "[195]\ttrain-auc:1\tval-auc:0.801182\n",
            "[199]\ttrain-auc:1\tval-auc:0.800317\n",
            "\n"
          ]
        }
      ]
    },
    {
      "cell_type": "code",
      "source": [
        "def parse_xgb_output(output):\n",
        "  results = []\n",
        "\n",
        "  for line in output.stdout.strip().split('\\n'):\n",
        "    it_line, train_line, val_line = line.split('\\t')\n",
        "\n",
        "    it = int(it_line.strip('[]'))\n",
        "    train = float(train_line.split(':')[1])\n",
        "    val = float(val_line.split(':')[1])\n",
        "\n",
        "    results.append((it,train,val))\n",
        "\n",
        "  columns = ['num_iter', 'train_auc', 'val_auc']\n",
        "  df_results = pd.DataFrame(results, columns = columns)\n",
        "  return df_results"
      ],
      "metadata": {
        "id": "KL7PDxcQ2BJU"
      },
      "execution_count": 111,
      "outputs": []
    },
    {
      "cell_type": "code",
      "source": [
        "df_score = parse_xgb_output(output)"
      ],
      "metadata": {
        "id": "2Aln4C8o3Mzc"
      },
      "execution_count": 114,
      "outputs": []
    },
    {
      "cell_type": "code",
      "source": [
        "plt.plot(df_score.num_iter, df_score.train_auc, label='train')\n",
        "plt.plot(df_score.num_iter, df_score.val_auc, label='val')\n",
        "plt.legend()\n",
        "# overfit occured"
      ],
      "metadata": {
        "colab": {
          "base_uri": "https://localhost:8080/",
          "height": 282
        },
        "id": "PNbrtuJs3QDd",
        "outputId": "ce88383d-760e-4e0c-9129-b7adcf6f4ed7"
      },
      "execution_count": 115,
      "outputs": [
        {
          "output_type": "execute_result",
          "data": {
            "text/plain": [
              "<matplotlib.legend.Legend at 0x7f2fa7a4c690>"
            ]
          },
          "metadata": {},
          "execution_count": 115
        },
        {
          "output_type": "display_data",
          "data": {
            "text/plain": [
              "<Figure size 432x288 with 1 Axes>"
            ],
            "image/png": "[encoded data removed]"
          },
          "metadata": {
            "needs_background": "light"
          }
        }
      ]
    },
    {
      "cell_type": "code",
      "source": [
        "plt.plot(df_score.num_iter, df_score.val_auc, label='val')\n",
        "plt.legend()"
      ],
      "metadata": {
        "colab": {
          "base_uri": "https://localhost:8080/",
          "height": 282
        },
        "id": "kirs74Be3gnz",
        "outputId": "9414d640-63bb-43ec-aa1d-4d32056df5f3"
      },
      "execution_count": 116,
      "outputs": [
        {
          "output_type": "execute_result",
          "data": {
            "text/plain": [
              "<matplotlib.legend.Legend at 0x7f2fb09e3d10>"
            ]
          },
          "metadata": {},
          "execution_count": 116
        },
        {
          "output_type": "display_data",
          "data": {
            "text/plain": [
              "<Figure size 432x288 with 1 Axes>"
            ],
            "image/png": "[encoded data removed]"
          },
          "metadata": {
            "needs_background": "light"
          }
        }
      ]
    },
    {
      "cell_type": "markdown",
      "source": [
        "# XGBoost Parameter Tuning\n",
        "\n",
        "Tuning the following parameters:\n",
        "\n",
        "- eta\n",
        "- max_depth\n",
        "- min_child_weight"
      ],
      "metadata": {
        "id": "XqAC3_vE3zas"
      }
    },
    {
      "cell_type": "code",
      "source": [
        "scores = {}"
      ],
      "metadata": {
        "id": "widcLNCC3vYh"
      },
      "execution_count": 154,
      "outputs": []
    },
    {
      "cell_type": "code",
      "source": [
        "%%capture output\n",
        "\n",
        "xgb_params = {\n",
        "    'eta': 0.05, \n",
        "    'max_depth': 6,\n",
        "    'min_child_weight': 1,\n",
        "    \n",
        "    'objective': 'binary:logistic',\n",
        "    'eval_metric': 'auc',\n",
        "\n",
        "    'nthread': 8,\n",
        "    'seed': 1,\n",
        "    'verbosity': 1,\n",
        "}\n",
        "\n",
        "model = xgb.train(xgb_params, dtrain, num_boost_round=200,\n",
        "                  verbose_eval=5,\n",
        "                  evals=watchlist)"
      ],
      "metadata": {
        "id": "fZ43TA_Q43ip"
      },
      "execution_count": 177,
      "outputs": []
    },
    {
      "cell_type": "code",
      "source": [
        "#scores = {}"
      ],
      "metadata": {
        "id": "j4Sj1_g644ue"
      },
      "execution_count": 178,
      "outputs": []
    },
    {
      "cell_type": "code",
      "source": [
        "key = 'eta=%s' % (xgb_params['eta'])\n",
        "scores[key] = parse_xgb_output(output)\n",
        "key"
      ],
      "metadata": {
        "colab": {
          "base_uri": "https://localhost:8080/",
          "height": 36
        },
        "id": "O9EHBrZ_46CF",
        "outputId": "ec576cc2-b978-493a-8648-f792cd04d34c"
      },
      "execution_count": 179,
      "outputs": [
        {
          "output_type": "execute_result",
          "data": {
            "text/plain": [
              "'eta=0.05'"
            ],
            "application/vnd.google.colaboratory.intrinsic+json": {
              "type": "string"
            }
          },
          "metadata": {},
          "execution_count": 179
        }
      ]
    },
    {
      "cell_type": "code",
      "source": [
        "eta_values = ['eta=0.05', 'eta=0.01', 'eta=0.1']\n",
        "\n",
        "for eta in eta_values:\n",
        "  df_score = scores[eta]\n",
        "  plt.plot(df_score.num_iter, df_score.val_auc, label = eta)\n",
        "plt.legend()"
      ],
      "metadata": {
        "colab": {
          "base_uri": "https://localhost:8080/",
          "height": 282
        },
        "id": "rFHQ9isI6L8n",
        "outputId": "87840c99-4702-4f6d-866b-6d9d1c22a694"
      },
      "execution_count": 181,
      "outputs": [
        {
          "output_type": "execute_result",
          "data": {
            "text/plain": [
              "<matplotlib.legend.Legend at 0x7f2fa46bedd0>"
            ]
          },
          "metadata": {},
          "execution_count": 181
        },
        {
          "output_type": "display_data",
          "data": {
            "text/plain": [
              "<Figure size 432x288 with 1 Axes>"
            ],
            "image/png": "[encoded data removed]"
          },
          "metadata": {
            "needs_background": "light"
          }
        }
      ]
    },
    {
      "cell_type": "code",
      "source": [
        "scores = {}"
      ],
      "metadata": {
        "id": "TQzSR05o46_d"
      },
      "execution_count": 182,
      "outputs": []
    },
    {
      "cell_type": "code",
      "source": [
        "%%capture output\n",
        "xgb_params = {\n",
        "    'eta': 0.1, \n",
        "    'max_depth': 4,\n",
        "    'min_child_weight': 1,\n",
        "    \n",
        "    'objective': 'binary:logistic',\n",
        "    'eval_metric': 'auc',\n",
        "\n",
        "    'nthread': 8,\n",
        "    'seed': 1,\n",
        "    'verbosity': 1,\n",
        "}\n",
        "\n",
        "model = xgb.train(xgb_params, dtrain, num_boost_round=200,\n",
        "                  verbose_eval=5,\n",
        "                  evals=watchlist)"
      ],
      "metadata": {
        "id": "fpi6Nwj-47_F"
      },
      "execution_count": 191,
      "outputs": []
    },
    {
      "cell_type": "code",
      "source": [
        "key = 'max_depth=%s' % (xgb_params['max_depth'])\n",
        "scores[key] = parse_xgb_output(output)\n",
        "key"
      ],
      "metadata": {
        "colab": {
          "base_uri": "https://localhost:8080/",
          "height": 36
        },
        "id": "0hyxnyL949tk",
        "outputId": "1d5a1d55-14e2-458e-b099-8ebd312bfee5"
      },
      "execution_count": 192,
      "outputs": [
        {
          "output_type": "execute_result",
          "data": {
            "text/plain": [
              "'max_depth=4'"
            ],
            "application/vnd.google.colaboratory.intrinsic+json": {
              "type": "string"
            }
          },
          "metadata": {},
          "execution_count": 192
        }
      ]
    },
    {
      "cell_type": "code",
      "source": [
        "del scores['max_depth=10']"
      ],
      "metadata": {
        "id": "AmfvN00B4_Fx"
      },
      "execution_count": 193,
      "outputs": []
    },
    {
      "cell_type": "code",
      "source": [
        "for max_depth, df_score in scores.items():\n",
        "    plt.plot(df_score.num_iter, df_score.val_auc, label=max_depth)\n",
        "\n",
        "plt.ylim(0.8, 0.84)\n",
        "plt.legend()"
      ],
      "metadata": {
        "colab": {
          "base_uri": "https://localhost:8080/",
          "height": 286
        },
        "id": "kgZH96Up5AJo",
        "outputId": "1a2af0d1-2457-45e4-c79f-b01156c2f741"
      },
      "execution_count": 194,
      "outputs": [
        {
          "output_type": "execute_result",
          "data": {
            "text/plain": [
              "<matplotlib.legend.Legend at 0x7f2fa4611790>"
            ]
          },
          "metadata": {},
          "execution_count": 194
        },
        {
          "output_type": "display_data",
          "data": {
            "text/plain": [
              "<Figure size 432x288 with 1 Axes>"
            ],
            "image/png": "[encoded data removed]"
          },
          "metadata": {
            "needs_background": "light"
          }
        }
      ]
    },
    {
      "cell_type": "code",
      "source": [
        "scores = {}"
      ],
      "metadata": {
        "id": "qp01z66S8opp"
      },
      "execution_count": 209,
      "outputs": []
    },
    {
      "cell_type": "code",
      "source": [
        "%%capture output\n",
        "xgb_params = {\n",
        "    'eta': 0.1, \n",
        "    'max_depth': 3,\n",
        "    'min_child_weight': 1,\n",
        "    \n",
        "    'objective': 'binary:logistic',\n",
        "    'eval_metric': 'auc',\n",
        "\n",
        "    'nthread': 8,\n",
        "    'seed': 1,\n",
        "    'verbosity': 1,\n",
        "}\n",
        "\n",
        "model = xgb.train(xgb_params, dtrain, num_boost_round=200,\n",
        "                  verbose_eval=5,\n",
        "                  evals=watchlist)"
      ],
      "metadata": {
        "id": "B-BPrjpw5BdX"
      },
      "execution_count": 214,
      "outputs": []
    },
    {
      "cell_type": "code",
      "source": [
        "key = 'min_child_weight=%s' % (xgb_params['min_child_weight'])\n",
        "scores[key] = parse_xgb_output(output)\n",
        "key"
      ],
      "metadata": {
        "colab": {
          "base_uri": "https://localhost:8080/",
          "height": 36
        },
        "id": "eyWrY49f8s3m",
        "outputId": "7fe4116c-aa54-4d22-9a76-9fed937d29c8"
      },
      "execution_count": 215,
      "outputs": [
        {
          "output_type": "execute_result",
          "data": {
            "text/plain": [
              "'min_child_weight=1'"
            ],
            "application/vnd.google.colaboratory.intrinsic+json": {
              "type": "string"
            }
          },
          "metadata": {},
          "execution_count": 215
        }
      ]
    },
    {
      "cell_type": "code",
      "source": [
        "for min_child_weight, df_score in scores.items():\n",
        "    plt.plot(df_score.num_iter, df_score.val_auc, label=min_child_weight)\n",
        "\n",
        "plt.ylim(0.82, 0.84)\n",
        "plt.legend()"
      ],
      "metadata": {
        "colab": {
          "base_uri": "https://localhost:8080/",
          "height": 286
        },
        "id": "Dpk9URsr8tK5",
        "outputId": "e54d8bcd-c953-4679-8146-62fc3ded98a4"
      },
      "execution_count": 216,
      "outputs": [
        {
          "output_type": "execute_result",
          "data": {
            "text/plain": [
              "<matplotlib.legend.Legend at 0x7f2fa4437ed0>"
            ]
          },
          "metadata": {},
          "execution_count": 216
        },
        {
          "output_type": "display_data",
          "data": {
            "text/plain": [
              "<Figure size 432x288 with 1 Axes>"
            ],
            "image/png": "[encoded data removed]"
          },
          "metadata": {
            "needs_background": "light"
          }
        }
      ]
    },
    {
      "cell_type": "code",
      "source": [
        "xgb_params = {\n",
        "    'eta': 0.1, \n",
        "    'max_depth': 3,\n",
        "    'min_child_weight': 1,\n",
        "\n",
        "    'objective': 'binary:logistic',\n",
        "    'eval_metric': 'auc',\n",
        "\n",
        "    'nthread': 8,\n",
        "    'seed': 1,\n",
        "    'verbosity': 1,\n",
        "}\n",
        "\n",
        "model = xgb.train(xgb_params, dtrain, num_boost_round=175)"
      ],
      "metadata": {
        "id": "i-WdLizt8vU8"
      },
      "execution_count": 208,
      "outputs": []
    },
    {
      "cell_type": "markdown",
      "source": [
        "# Selecting the final model"
      ],
      "metadata": {
        "id": "wqPIqQTf9COc"
      }
    },
    {
      "cell_type": "code",
      "source": [
        "last_tree = DecisionTreeClassifier(max_depth=6, min_samples_leaf=15)\n",
        "last_tree.fit(X_train, y_train)"
      ],
      "metadata": {
        "colab": {
          "base_uri": "https://localhost:8080/"
        },
        "id": "eN4ROFfX9BtW",
        "outputId": "b74ed454-cf04-44e2-ae0d-8eda49b7de50"
      },
      "execution_count": 217,
      "outputs": [
        {
          "output_type": "execute_result",
          "data": {
            "text/plain": [
              "DecisionTreeClassifier(max_depth=6, min_samples_leaf=15)"
            ]
          },
          "metadata": {},
          "execution_count": 217
        }
      ]
    },
    {
      "cell_type": "code",
      "source": [
        "y_pred = last_tree.predict_proba(X_val)[:, 1]\n",
        "roc_auc_score(y_val, y_pred)"
      ],
      "metadata": {
        "colab": {
          "base_uri": "https://localhost:8080/"
        },
        "id": "bc4EMM6J9hoL",
        "outputId": "28dd8cfc-5de7-45b3-926f-d505f0d80de0"
      },
      "execution_count": 218,
      "outputs": [
        {
          "output_type": "execute_result",
          "data": {
            "text/plain": [
              "0.7854738320699426"
            ]
          },
          "metadata": {},
          "execution_count": 218
        }
      ]
    },
    {
      "cell_type": "code",
      "source": [
        "last_forest = RandomForestClassifier(n_estimators=200,\n",
        "                            max_depth=10,\n",
        "                            min_samples_leaf=3,\n",
        "                            random_state=1)\n",
        "last_forest.fit(X_train, y_train)"
      ],
      "metadata": {
        "colab": {
          "base_uri": "https://localhost:8080/"
        },
        "id": "oKKTSzCA9jOB",
        "outputId": "3e3e1ad7-5968-4497-a3a2-f071a3180e54"
      },
      "execution_count": 219,
      "outputs": [
        {
          "output_type": "execute_result",
          "data": {
            "text/plain": [
              "RandomForestClassifier(max_depth=10, min_samples_leaf=3, n_estimators=200,\n",
              "                       random_state=1)"
            ]
          },
          "metadata": {},
          "execution_count": 219
        }
      ]
    },
    {
      "cell_type": "code",
      "source": [
        "y_pred = last_forest.predict_proba(X_val)[:, 1]\n",
        "roc_auc_score(y_val, y_pred)"
      ],
      "metadata": {
        "colab": {
          "base_uri": "https://localhost:8080/"
        },
        "id": "DKAZeZiW9mLP",
        "outputId": "2351c314-78a5-431f-c828-0ef734c33349"
      },
      "execution_count": 220,
      "outputs": [
        {
          "output_type": "execute_result",
          "data": {
            "text/plain": [
              "0.8246258264512848"
            ]
          },
          "metadata": {},
          "execution_count": 220
        }
      ]
    },
    {
      "cell_type": "code",
      "source": [
        "xgb_params = {\n",
        "    'eta': 0.1, \n",
        "    'max_depth': 3,\n",
        "    'min_child_weight': 1,\n",
        "\n",
        "    'objective': 'binary:logistic',\n",
        "    'eval_metric': 'auc',\n",
        "\n",
        "    'nthread': 8,\n",
        "    'seed': 1,\n",
        "    'verbosity': 1,\n",
        "}\n",
        "\n",
        "model = xgb.train(xgb_params, dtrain, num_boost_round=175)"
      ],
      "metadata": {
        "id": "hfSRtG5V9pWG"
      },
      "execution_count": 221,
      "outputs": []
    },
    {
      "cell_type": "code",
      "source": [
        "y_pred = model.predict(dval)\n",
        "roc_auc_score(y_val, y_pred)"
      ],
      "metadata": {
        "colab": {
          "base_uri": "https://localhost:8080/"
        },
        "id": "zNXth-Gp9rYF",
        "outputId": "eb99155b-76b9-4b59-a33e-a53d9c78be01"
      },
      "execution_count": 222,
      "outputs": [
        {
          "output_type": "execute_result",
          "data": {
            "text/plain": [
              "0.8360387251459157"
            ]
          },
          "metadata": {},
          "execution_count": 222
        }
      ]
    },
    {
      "cell_type": "code",
      "source": [
        "df_full_train = df_full_train.reset_index(drop=True)\n",
        "y_full_train = (df_full_train.status == 'default').astype(int).values"
      ],
      "metadata": {
        "id": "w0KdsPLh9tC0"
      },
      "execution_count": 223,
      "outputs": []
    },
    {
      "cell_type": "code",
      "source": [
        "del df_full_train['status']"
      ],
      "metadata": {
        "id": "NTR_mbOl90J2"
      },
      "execution_count": 224,
      "outputs": []
    },
    {
      "cell_type": "code",
      "source": [
        "dicts_full_train = df_full_train.to_dict(orient='records')\n",
        "\n",
        "dv = DictVectorizer(sparse=False)\n",
        "X_full_train = dv.fit_transform(dicts_full_train)\n",
        "\n",
        "dicts_test = df_test.to_dict(orient='records')\n",
        "X_test = dv.transform(dicts_test)"
      ],
      "metadata": {
        "id": "7HEggTwW90lU"
      },
      "execution_count": 225,
      "outputs": []
    },
    {
      "cell_type": "code",
      "source": [
        "full_train = xgb.DMatrix(X_full_train, label=y_full_train,\n",
        "                    feature_names=dv.get_feature_names_out())\n",
        "\n",
        "test = xgb.DMatrix(X_test, feature_names=dv.get_feature_names_out())"
      ],
      "metadata": {
        "id": "yRnrldfT92i1"
      },
      "execution_count": 228,
      "outputs": []
    },
    {
      "cell_type": "code",
      "source": [
        "xgb_params = {\n",
        "    'eta': 0.1, \n",
        "    'max_depth': 3,\n",
        "    'min_child_weight': 1,\n",
        "\n",
        "    'objective': 'binary:logistic',\n",
        "    'eval_metric': 'auc',\n",
        "\n",
        "    'nthread': 8,\n",
        "    'seed': 1,\n",
        "    'verbosity': 1,\n",
        "}\n",
        "\n",
        "model = xgb.train(xgb_params, full_train, num_boost_round=175)"
      ],
      "metadata": {
        "id": "i84GmaGO98ma"
      },
      "execution_count": 229,
      "outputs": []
    },
    {
      "cell_type": "code",
      "source": [
        "y_pred = model.predict(test)"
      ],
      "metadata": {
        "id": "XCupl5ga-FPX"
      },
      "execution_count": 230,
      "outputs": []
    },
    {
      "cell_type": "code",
      "source": [
        "roc_auc_score(y_test, y_pred)"
      ],
      "metadata": {
        "colab": {
          "base_uri": "https://localhost:8080/"
        },
        "id": "Ia9VR-TR-G-t",
        "outputId": "16d21b83-8bcd-485e-a962-260a61ff767a"
      },
      "execution_count": 231,
      "outputs": [
        {
          "output_type": "execute_result",
          "data": {
            "text/plain": [
              "0.8322662626460096"
            ]
          },
          "metadata": {},
          "execution_count": 231
        }
      ]
    },
    {
      "cell_type": "markdown",
      "source": [
        "# Summary\n",
        "\n",
        "- Decision trees learn if-then-else rules from data.\n",
        "- Finding the best split: select the least impure split. This algorithm can overfit, that's why we control it by limiting the max depth and the size of the group.\n",
        "- Random forest is a way of combininig multiple decision trees. It should have a diverse set of models to make good predictions.\n",
        "- Gradient boosting trains model sequentially: each model tries to fix errors of the previous model. XGBoost is an implementation of gradient boosting."
      ],
      "metadata": {
        "id": "VFBGxn6--KNG"
      }
    }
  ]
}